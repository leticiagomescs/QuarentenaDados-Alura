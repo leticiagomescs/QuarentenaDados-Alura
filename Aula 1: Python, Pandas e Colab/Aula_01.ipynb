{
  "nbformat": 4,
  "nbformat_minor": 0,
  "metadata": {
    "colab": {
      "name": "Aula_01.ipynb",
      "provenance": [],
      "collapsed_sections": [
        "cp2jhYUb_2dt",
        "EdpQKe4F_8Ju"
      ],
      "toc_visible": true,
      "authorship_tag": "ABX9TyONAcQa+0cGKJBaDg+RMtmd",
      "include_colab_link": true
    },
    "kernelspec": {
      "name": "python3",
      "display_name": "Python 3"
    }
  },
  "cells": [
    {
      "cell_type": "markdown",
      "metadata": {
        "id": "view-in-github",
        "colab_type": "text"
      },
      "source": [
        "<a href=\"https://colab.research.google.com/github/leticiagomescs/QuarentenaDados-Alura/blob/master/Aula_01.ipynb\" target=\"_parent\"><img src=\"https://colab.research.google.com/assets/colab-badge.svg\" alt=\"Open In Colab\"/></a>"
      ]
    },
    {
      "cell_type": "markdown",
      "metadata": {
        "id": "f7ibSyNTXtv9",
        "colab_type": "text"
      },
      "source": [
        "\n",
        "<h1> Aula 01 - Quarentena Dados"
      ]
    },
    {
      "cell_type": "markdown",
      "metadata": {
        "id": "XmnHXBqa-HU8",
        "colab_type": "text"
      },
      "source": [
        "##Importando as Bibliotecas"
      ]
    },
    {
      "cell_type": "code",
      "metadata": {
        "id": "eLJhElhQ-Bn2",
        "colab_type": "code",
        "colab": {}
      },
      "source": [
        "import pandas as pd\n",
        "import matplotlib.pyplot as plt"
      ],
      "execution_count": 0,
      "outputs": []
    },
    {
      "cell_type": "markdown",
      "metadata": {
        "id": "BUHNzlDu-ibj",
        "colab_type": "text"
      },
      "source": [
        "##Importando os conjuntos de dados"
      ]
    },
    {
      "cell_type": "markdown",
      "metadata": {
        "id": "cp2jhYUb_2dt",
        "colab_type": "text"
      },
      "source": [
        "###Filmes"
      ]
    },
    {
      "cell_type": "code",
      "metadata": {
        "id": "Qx9q0jVgBIdI",
        "colab_type": "code",
        "outputId": "e0a464cd-10e8-4ae4-9c2b-73153e69c536",
        "colab": {
          "base_uri": "https://localhost:8080/",
          "height": 34
        }
      },
      "source": [
        "# Importando o conjunto de dados:\n",
        "filmes = pd.read_csv('https://raw.githubusercontent.com/alura-cursos/introducao-a-data-science/master/aula0/ml-latest-small/movies.csv')\n",
        "\n",
        "# Quais são as colunas do dataframe filmes:\n",
        "filmes.columns"
      ],
      "execution_count": 48,
      "outputs": [
        {
          "output_type": "execute_result",
          "data": {
            "text/plain": [
              "Index(['movieId', 'title', 'genres'], dtype='object')"
            ]
          },
          "metadata": {
            "tags": []
          },
          "execution_count": 48
        }
      ]
    },
    {
      "cell_type": "code",
      "metadata": {
        "id": "s9QOxeRx_Mk_",
        "colab_type": "code",
        "colab": {}
      },
      "source": [
        "# Renomeando as colunas do dataframe filmes:\n",
        "filmes.columns = ['filmeId','titulo','generos']"
      ],
      "execution_count": 0,
      "outputs": []
    },
    {
      "cell_type": "markdown",
      "metadata": {
        "id": "K8o4YfwYBOLI",
        "colab_type": "text"
      },
      "source": [
        "Para visualizar algumas linhas estamos usando o ```.head()```, como ela mostra apenas as 5 primeiras linhas não sabemos qual é a quantidade de linhas que temos. "
      ]
    },
    {
      "cell_type": "code",
      "metadata": {
        "id": "k3DRQphABOtd",
        "colab_type": "code",
        "colab": {
          "base_uri": "https://localhost:8080/",
          "height": 204
        },
        "outputId": "ae3a7656-adec-4516-ab7b-c3df6308cb16"
      },
      "source": [
        "# Imprimindo as 5 primeiras linhas do dataframe:\n",
        "filmes.head()"
      ],
      "execution_count": 50,
      "outputs": [
        {
          "output_type": "execute_result",
          "data": {
            "text/html": [
              "<div>\n",
              "<style scoped>\n",
              "    .dataframe tbody tr th:only-of-type {\n",
              "        vertical-align: middle;\n",
              "    }\n",
              "\n",
              "    .dataframe tbody tr th {\n",
              "        vertical-align: top;\n",
              "    }\n",
              "\n",
              "    .dataframe thead th {\n",
              "        text-align: right;\n",
              "    }\n",
              "</style>\n",
              "<table border=\"1\" class=\"dataframe\">\n",
              "  <thead>\n",
              "    <tr style=\"text-align: right;\">\n",
              "      <th></th>\n",
              "      <th>filmeId</th>\n",
              "      <th>titulo</th>\n",
              "      <th>generos</th>\n",
              "    </tr>\n",
              "  </thead>\n",
              "  <tbody>\n",
              "    <tr>\n",
              "      <th>0</th>\n",
              "      <td>1</td>\n",
              "      <td>Toy Story (1995)</td>\n",
              "      <td>Adventure|Animation|Children|Comedy|Fantasy</td>\n",
              "    </tr>\n",
              "    <tr>\n",
              "      <th>1</th>\n",
              "      <td>2</td>\n",
              "      <td>Jumanji (1995)</td>\n",
              "      <td>Adventure|Children|Fantasy</td>\n",
              "    </tr>\n",
              "    <tr>\n",
              "      <th>2</th>\n",
              "      <td>3</td>\n",
              "      <td>Grumpier Old Men (1995)</td>\n",
              "      <td>Comedy|Romance</td>\n",
              "    </tr>\n",
              "    <tr>\n",
              "      <th>3</th>\n",
              "      <td>4</td>\n",
              "      <td>Waiting to Exhale (1995)</td>\n",
              "      <td>Comedy|Drama|Romance</td>\n",
              "    </tr>\n",
              "    <tr>\n",
              "      <th>4</th>\n",
              "      <td>5</td>\n",
              "      <td>Father of the Bride Part II (1995)</td>\n",
              "      <td>Comedy</td>\n",
              "    </tr>\n",
              "  </tbody>\n",
              "</table>\n",
              "</div>"
            ],
            "text/plain": [
              "   filmeId  ...                                      generos\n",
              "0        1  ...  Adventure|Animation|Children|Comedy|Fantasy\n",
              "1        2  ...                   Adventure|Children|Fantasy\n",
              "2        3  ...                               Comedy|Romance\n",
              "3        4  ...                         Comedy|Drama|Romance\n",
              "4        5  ...                                       Comedy\n",
              "\n",
              "[5 rows x 3 columns]"
            ]
          },
          "metadata": {
            "tags": []
          },
          "execution_count": 50
        }
      ]
    },
    {
      "cell_type": "code",
      "metadata": {
        "id": "P9F4tDr7eAqU",
        "colab_type": "code",
        "colab": {}
      },
      "source": [
        "# Lendo a documentação de um método/atributo:\n",
        "?filmes.head"
      ],
      "execution_count": 0,
      "outputs": []
    },
    {
      "cell_type": "markdown",
      "metadata": {
        "id": "EdpQKe4F_8Ju",
        "colab_type": "text"
      },
      "source": [
        "###Avaliações dos filmes"
      ]
    },
    {
      "cell_type": "code",
      "metadata": {
        "id": "W2cnF6ZpelcY",
        "colab_type": "code",
        "outputId": "acd1b77a-592d-4b03-a925-de5458060634",
        "colab": {
          "base_uri": "https://localhost:8080/",
          "height": 204
        }
      },
      "source": [
        "# Importando o conjunto de dados: \n",
        "avaliacoes = pd.read_csv('https://raw.githubusercontent.com/alura-cursos/introducao-a-data-science/master/aula0/ml-latest-small/ratings.csv')\n",
        "\n",
        "# Imprimindo as 5 primeiras linhas do dataframe: \n",
        "avaliacoes.head()"
      ],
      "execution_count": 52,
      "outputs": [
        {
          "output_type": "execute_result",
          "data": {
            "text/html": [
              "<div>\n",
              "<style scoped>\n",
              "    .dataframe tbody tr th:only-of-type {\n",
              "        vertical-align: middle;\n",
              "    }\n",
              "\n",
              "    .dataframe tbody tr th {\n",
              "        vertical-align: top;\n",
              "    }\n",
              "\n",
              "    .dataframe thead th {\n",
              "        text-align: right;\n",
              "    }\n",
              "</style>\n",
              "<table border=\"1\" class=\"dataframe\">\n",
              "  <thead>\n",
              "    <tr style=\"text-align: right;\">\n",
              "      <th></th>\n",
              "      <th>userId</th>\n",
              "      <th>movieId</th>\n",
              "      <th>rating</th>\n",
              "      <th>timestamp</th>\n",
              "    </tr>\n",
              "  </thead>\n",
              "  <tbody>\n",
              "    <tr>\n",
              "      <th>0</th>\n",
              "      <td>1</td>\n",
              "      <td>1</td>\n",
              "      <td>4.0</td>\n",
              "      <td>964982703</td>\n",
              "    </tr>\n",
              "    <tr>\n",
              "      <th>1</th>\n",
              "      <td>1</td>\n",
              "      <td>3</td>\n",
              "      <td>4.0</td>\n",
              "      <td>964981247</td>\n",
              "    </tr>\n",
              "    <tr>\n",
              "      <th>2</th>\n",
              "      <td>1</td>\n",
              "      <td>6</td>\n",
              "      <td>4.0</td>\n",
              "      <td>964982224</td>\n",
              "    </tr>\n",
              "    <tr>\n",
              "      <th>3</th>\n",
              "      <td>1</td>\n",
              "      <td>47</td>\n",
              "      <td>5.0</td>\n",
              "      <td>964983815</td>\n",
              "    </tr>\n",
              "    <tr>\n",
              "      <th>4</th>\n",
              "      <td>1</td>\n",
              "      <td>50</td>\n",
              "      <td>5.0</td>\n",
              "      <td>964982931</td>\n",
              "    </tr>\n",
              "  </tbody>\n",
              "</table>\n",
              "</div>"
            ],
            "text/plain": [
              "   userId  movieId  rating  timestamp\n",
              "0       1        1     4.0  964982703\n",
              "1       1        3     4.0  964981247\n",
              "2       1        6     4.0  964982224\n",
              "3       1       47     5.0  964983815\n",
              "4       1       50     5.0  964982931"
            ]
          },
          "metadata": {
            "tags": []
          },
          "execution_count": 52
        }
      ]
    },
    {
      "cell_type": "markdown",
      "metadata": {
        "id": "3SfZkRr1AeVG",
        "colab_type": "text"
      },
      "source": [
        "##Análise Exploratória"
      ]
    },
    {
      "cell_type": "markdown",
      "metadata": {
        "id": "Po2QrDj2BZn9",
        "colab_type": "text"
      },
      "source": [
        "Para descobrir o tamanho do nosso dataframe podemos utilizar o comando ```avaliacoes.shape```, que retornará uma [tupla](https://www.alura.com.br/artigos/conhecendo-as-tuplas-no-python), onde o primeiro termo indica o número de linhas e o segundo o número de colunas."
      ]
    },
    {
      "cell_type": "code",
      "metadata": {
        "id": "CS-wK3tQf0Wn",
        "colab_type": "code",
        "outputId": "aac6f76b-9227-4c6d-84a8-8c9e5b12e237",
        "colab": {
          "base_uri": "https://localhost:8080/",
          "height": 34
        }
      },
      "source": [
        "# Lendo a quantidade de linhas e colunas do dataframe:\n",
        "avaliacoes.shape"
      ],
      "execution_count": 53,
      "outputs": [
        {
          "output_type": "execute_result",
          "data": {
            "text/plain": [
              "(100836, 4)"
            ]
          },
          "metadata": {
            "tags": []
          },
          "execution_count": 53
        }
      ]
    },
    {
      "cell_type": "code",
      "metadata": {
        "id": "a4whPYsJgHzo",
        "colab_type": "code",
        "outputId": "d040d4be-d813-4c19-9168-20be6c598157",
        "colab": {
          "base_uri": "https://localhost:8080/",
          "height": 34
        }
      },
      "source": [
        "# Lendo a quantidade de linhas do dataframe:\n",
        "len(avaliacoes)"
      ],
      "execution_count": 54,
      "outputs": [
        {
          "output_type": "execute_result",
          "data": {
            "text/plain": [
              "100836"
            ]
          },
          "metadata": {
            "tags": []
          },
          "execution_count": 54
        }
      ]
    },
    {
      "cell_type": "markdown",
      "metadata": {
        "id": "-3Hk0z_cCCKW",
        "colab_type": "text"
      },
      "source": [
        "Vamos substituir os nomes das colunas de inglês para português e entender o que são essas colunas. \n",
        "\n",
        "`usarioId`: ID para para usuário que votou em determinado filme.\n",
        "\n",
        "`filmeId`: ID para identificar um filme votado.\n",
        "\n",
        "`nota`: A nota dada para pelo usuário para o respectivo filme.\n",
        "\n",
        "`momento`: A data da votação que não está formatada como data\n",
        "\n",
        "Como cada linha contém um voto para o respectivo filme é de se esperar que um filme tenha diversos votos."
      ]
    },
    {
      "cell_type": "code",
      "metadata": {
        "id": "SYtLsiZogJxT",
        "colab_type": "code",
        "colab": {}
      },
      "source": [
        "# Renomeando as colunas:\n",
        "avaliacoes.columns = ['usuarioId','filmeId','nota','momento']"
      ],
      "execution_count": 0,
      "outputs": []
    },
    {
      "cell_type": "markdown",
      "metadata": {
        "id": "_hFpZZWQCbJ_",
        "colab_type": "text"
      },
      "source": [
        "Mas e se eu quiser analisar apenas as notas do filme 1, como posso separar essa informação?"
      ]
    },
    {
      "cell_type": "markdown",
      "metadata": {
        "id": "H2TywFOFC-T1",
        "colab_type": "text"
      },
      "source": [
        "Uma forma obter as informações apenas do filme cujo **Id = 1** é chamando o método ```avaliacaoes.query(\"filmeId==1\")```, esse método retornará apenas as linhas para quais a expressão booleana, **filmeId == 1**, for verdadeira."
      ]
    },
    {
      "cell_type": "code",
      "metadata": {
        "id": "PHtsL2Ftga6C",
        "colab_type": "code",
        "colab": {}
      },
      "source": [
        "# Selecionando um ID específico para analisar:\n",
        "avaliacoes_filme1 = avaliacoes.query('filmeId == 1')"
      ],
      "execution_count": 0,
      "outputs": []
    },
    {
      "cell_type": "markdown",
      "metadata": {
        "id": "GcaSaVXODCnu",
        "colab_type": "text"
      },
      "source": [
        "Tendo as informações do **filmeId == 1** podemos chamar o ```avaliacoes_do_filme_1.describe()```, para analisar as estatítiscas gerais dos dados."
      ]
    },
    {
      "cell_type": "code",
      "metadata": {
        "id": "aWMa7iYuDJmx",
        "colab_type": "code",
        "colab": {
          "base_uri": "https://localhost:8080/",
          "height": 297
        },
        "outputId": "976c9763-7407-48ef-e3ec-b18c4b182ed4"
      },
      "source": [
        "# \n",
        "avaliacoes.describe()"
      ],
      "execution_count": 57,
      "outputs": [
        {
          "output_type": "execute_result",
          "data": {
            "text/html": [
              "<div>\n",
              "<style scoped>\n",
              "    .dataframe tbody tr th:only-of-type {\n",
              "        vertical-align: middle;\n",
              "    }\n",
              "\n",
              "    .dataframe tbody tr th {\n",
              "        vertical-align: top;\n",
              "    }\n",
              "\n",
              "    .dataframe thead th {\n",
              "        text-align: right;\n",
              "    }\n",
              "</style>\n",
              "<table border=\"1\" class=\"dataframe\">\n",
              "  <thead>\n",
              "    <tr style=\"text-align: right;\">\n",
              "      <th></th>\n",
              "      <th>usuarioId</th>\n",
              "      <th>filmeId</th>\n",
              "      <th>nota</th>\n",
              "      <th>momento</th>\n",
              "    </tr>\n",
              "  </thead>\n",
              "  <tbody>\n",
              "    <tr>\n",
              "      <th>count</th>\n",
              "      <td>100836.000000</td>\n",
              "      <td>100836.000000</td>\n",
              "      <td>100836.000000</td>\n",
              "      <td>1.008360e+05</td>\n",
              "    </tr>\n",
              "    <tr>\n",
              "      <th>mean</th>\n",
              "      <td>326.127564</td>\n",
              "      <td>19435.295718</td>\n",
              "      <td>3.501557</td>\n",
              "      <td>1.205946e+09</td>\n",
              "    </tr>\n",
              "    <tr>\n",
              "      <th>std</th>\n",
              "      <td>182.618491</td>\n",
              "      <td>35530.987199</td>\n",
              "      <td>1.042529</td>\n",
              "      <td>2.162610e+08</td>\n",
              "    </tr>\n",
              "    <tr>\n",
              "      <th>min</th>\n",
              "      <td>1.000000</td>\n",
              "      <td>1.000000</td>\n",
              "      <td>0.500000</td>\n",
              "      <td>8.281246e+08</td>\n",
              "    </tr>\n",
              "    <tr>\n",
              "      <th>25%</th>\n",
              "      <td>177.000000</td>\n",
              "      <td>1199.000000</td>\n",
              "      <td>3.000000</td>\n",
              "      <td>1.019124e+09</td>\n",
              "    </tr>\n",
              "    <tr>\n",
              "      <th>50%</th>\n",
              "      <td>325.000000</td>\n",
              "      <td>2991.000000</td>\n",
              "      <td>3.500000</td>\n",
              "      <td>1.186087e+09</td>\n",
              "    </tr>\n",
              "    <tr>\n",
              "      <th>75%</th>\n",
              "      <td>477.000000</td>\n",
              "      <td>8122.000000</td>\n",
              "      <td>4.000000</td>\n",
              "      <td>1.435994e+09</td>\n",
              "    </tr>\n",
              "    <tr>\n",
              "      <th>max</th>\n",
              "      <td>610.000000</td>\n",
              "      <td>193609.000000</td>\n",
              "      <td>5.000000</td>\n",
              "      <td>1.537799e+09</td>\n",
              "    </tr>\n",
              "  </tbody>\n",
              "</table>\n",
              "</div>"
            ],
            "text/plain": [
              "           usuarioId        filmeId           nota       momento\n",
              "count  100836.000000  100836.000000  100836.000000  1.008360e+05\n",
              "mean      326.127564   19435.295718       3.501557  1.205946e+09\n",
              "std       182.618491   35530.987199       1.042529  2.162610e+08\n",
              "min         1.000000       1.000000       0.500000  8.281246e+08\n",
              "25%       177.000000    1199.000000       3.000000  1.019124e+09\n",
              "50%       325.000000    2991.000000       3.500000  1.186087e+09\n",
              "75%       477.000000    8122.000000       4.000000  1.435994e+09\n",
              "max       610.000000  193609.000000       5.000000  1.537799e+09"
            ]
          },
          "metadata": {
            "tags": []
          },
          "execution_count": 57
        }
      ]
    },
    {
      "cell_type": "markdown",
      "metadata": {
        "id": "csuoUtBYD79R",
        "colab_type": "text"
      },
      "source": [
        "Caso queira uma estatística particular, podemos apenas chamar o método desajado, repare abaixo como calculamos apenas a média(`mean`), mediana(`median`) e desvio padrão(`std`) das avaliações do `filmeId == 1`.\n",
        "\n",
        "> Indented block\n",
        "\n"
      ]
    },
    {
      "cell_type": "code",
      "metadata": {
        "id": "8gO7eiK9hs77",
        "colab_type": "code",
        "outputId": "0d361f0e-d9f1-4371-c1a3-cc01e85e0d7c",
        "colab": {
          "base_uri": "https://localhost:8080/",
          "height": 102
        }
      },
      "source": [
        "# Obtendo a média:\n",
        "avaliacoes_filme1.mean()"
      ],
      "execution_count": 58,
      "outputs": [
        {
          "output_type": "execute_result",
          "data": {
            "text/plain": [
              "usuarioId    3.065302e+02\n",
              "filmeId      1.000000e+00\n",
              "nota         3.920930e+00\n",
              "momento      1.129835e+09\n",
              "dtype: float64"
            ]
          },
          "metadata": {
            "tags": []
          },
          "execution_count": 58
        }
      ]
    },
    {
      "cell_type": "code",
      "metadata": {
        "id": "ZaEmSv97EVF3",
        "colab_type": "code",
        "colab": {
          "base_uri": "https://localhost:8080/",
          "height": 102
        },
        "outputId": "203c5cae-e577-4550-c260-9cf3ccdacf89"
      },
      "source": [
        "# Obtendo a mediana:\n",
        "avaliacoes_filme1.median()"
      ],
      "execution_count": 59,
      "outputs": [
        {
          "output_type": "execute_result",
          "data": {
            "text/plain": [
              "usuarioId    2.900000e+02\n",
              "filmeId      1.000000e+00\n",
              "nota         4.000000e+00\n",
              "momento      1.106855e+09\n",
              "dtype: float64"
            ]
          },
          "metadata": {
            "tags": []
          },
          "execution_count": 59
        }
      ]
    },
    {
      "cell_type": "code",
      "metadata": {
        "id": "8MIh2VUdEU2l",
        "colab_type": "code",
        "colab": {
          "base_uri": "https://localhost:8080/",
          "height": 102
        },
        "outputId": "42e73f22-4b13-48a6-db1e-6b4937b5628b"
      },
      "source": [
        "# Obtendo o desvio padrão:\n",
        "avaliacoes_filme1.std()"
      ],
      "execution_count": 60,
      "outputs": [
        {
          "output_type": "execute_result",
          "data": {
            "text/plain": [
              "usuarioId    1.804198e+02\n",
              "filmeId      0.000000e+00\n",
              "nota         8.348591e-01\n",
              "momento      2.393163e+08\n",
              "dtype: float64"
            ]
          },
          "metadata": {
            "tags": []
          },
          "execution_count": 60
        }
      ]
    },
    {
      "cell_type": "markdown",
      "metadata": {
        "id": "aN0-oyfaEnci",
        "colab_type": "text"
      },
      "source": [
        "Calcularemos agora as estatísicas para o todo o dataframe **avaliações** com o método ```.describe()```. Ele nos retorna valores estatpisticos para todas as variáveis numéricas do conjunto de dados. "
      ]
    },
    {
      "cell_type": "code",
      "metadata": {
        "id": "79sVb1YhEtZu",
        "colab_type": "code",
        "colab": {
          "base_uri": "https://localhost:8080/",
          "height": 297
        },
        "outputId": "01ec9ce5-7315-443f-98d7-d67a859995b6"
      },
      "source": [
        "avaliacoes.describe()"
      ],
      "execution_count": 61,
      "outputs": [
        {
          "output_type": "execute_result",
          "data": {
            "text/html": [
              "<div>\n",
              "<style scoped>\n",
              "    .dataframe tbody tr th:only-of-type {\n",
              "        vertical-align: middle;\n",
              "    }\n",
              "\n",
              "    .dataframe tbody tr th {\n",
              "        vertical-align: top;\n",
              "    }\n",
              "\n",
              "    .dataframe thead th {\n",
              "        text-align: right;\n",
              "    }\n",
              "</style>\n",
              "<table border=\"1\" class=\"dataframe\">\n",
              "  <thead>\n",
              "    <tr style=\"text-align: right;\">\n",
              "      <th></th>\n",
              "      <th>usuarioId</th>\n",
              "      <th>filmeId</th>\n",
              "      <th>nota</th>\n",
              "      <th>momento</th>\n",
              "    </tr>\n",
              "  </thead>\n",
              "  <tbody>\n",
              "    <tr>\n",
              "      <th>count</th>\n",
              "      <td>100836.000000</td>\n",
              "      <td>100836.000000</td>\n",
              "      <td>100836.000000</td>\n",
              "      <td>1.008360e+05</td>\n",
              "    </tr>\n",
              "    <tr>\n",
              "      <th>mean</th>\n",
              "      <td>326.127564</td>\n",
              "      <td>19435.295718</td>\n",
              "      <td>3.501557</td>\n",
              "      <td>1.205946e+09</td>\n",
              "    </tr>\n",
              "    <tr>\n",
              "      <th>std</th>\n",
              "      <td>182.618491</td>\n",
              "      <td>35530.987199</td>\n",
              "      <td>1.042529</td>\n",
              "      <td>2.162610e+08</td>\n",
              "    </tr>\n",
              "    <tr>\n",
              "      <th>min</th>\n",
              "      <td>1.000000</td>\n",
              "      <td>1.000000</td>\n",
              "      <td>0.500000</td>\n",
              "      <td>8.281246e+08</td>\n",
              "    </tr>\n",
              "    <tr>\n",
              "      <th>25%</th>\n",
              "      <td>177.000000</td>\n",
              "      <td>1199.000000</td>\n",
              "      <td>3.000000</td>\n",
              "      <td>1.019124e+09</td>\n",
              "    </tr>\n",
              "    <tr>\n",
              "      <th>50%</th>\n",
              "      <td>325.000000</td>\n",
              "      <td>2991.000000</td>\n",
              "      <td>3.500000</td>\n",
              "      <td>1.186087e+09</td>\n",
              "    </tr>\n",
              "    <tr>\n",
              "      <th>75%</th>\n",
              "      <td>477.000000</td>\n",
              "      <td>8122.000000</td>\n",
              "      <td>4.000000</td>\n",
              "      <td>1.435994e+09</td>\n",
              "    </tr>\n",
              "    <tr>\n",
              "      <th>max</th>\n",
              "      <td>610.000000</td>\n",
              "      <td>193609.000000</td>\n",
              "      <td>5.000000</td>\n",
              "      <td>1.537799e+09</td>\n",
              "    </tr>\n",
              "  </tbody>\n",
              "</table>\n",
              "</div>"
            ],
            "text/plain": [
              "           usuarioId        filmeId           nota       momento\n",
              "count  100836.000000  100836.000000  100836.000000  1.008360e+05\n",
              "mean      326.127564   19435.295718       3.501557  1.205946e+09\n",
              "std       182.618491   35530.987199       1.042529  2.162610e+08\n",
              "min         1.000000       1.000000       0.500000  8.281246e+08\n",
              "25%       177.000000    1199.000000       3.000000  1.019124e+09\n",
              "50%       325.000000    2991.000000       3.500000  1.186087e+09\n",
              "75%       477.000000    8122.000000       4.000000  1.435994e+09\n",
              "max       610.000000  193609.000000       5.000000  1.537799e+09"
            ]
          },
          "metadata": {
            "tags": []
          },
          "execution_count": 61
        }
      ]
    },
    {
      "cell_type": "markdown",
      "metadata": {
        "id": "0hstsWNBFZyZ",
        "colab_type": "text"
      },
      "source": [
        "Como calcular a média apenas das notas?\n",
        "\n",
        "A primeira coisa que precisamos fazer é selecionar apenas as informações de notas. Usando uma estrutura muito parecida com a de [chave-valor dos dicionários python](https://www.alura.com.br/artigos/trabalhando-com-o-dicionario-no-python). \n",
        "\n",
        "Com o comando `avaliacoes['nota']`, obtemos os valores da coluna nota (repare que o tipo retornado é uma Série pandas, por isso o index de cada nota é mantido). Para calcular a média de todas as notas executamos `avaliacoes['nota'].means()`"
      ]
    },
    {
      "cell_type": "code",
      "metadata": {
        "id": "gI2f-HSZg7-A",
        "colab_type": "code",
        "outputId": "55d06c1e-97b4-4368-b54e-22de725fb5a5",
        "colab": {
          "base_uri": "https://localhost:8080/",
          "height": 221
        }
      },
      "source": [
        "avaliacoes['nota']"
      ],
      "execution_count": 62,
      "outputs": [
        {
          "output_type": "execute_result",
          "data": {
            "text/plain": [
              "0         4.0\n",
              "1         4.0\n",
              "2         4.0\n",
              "3         5.0\n",
              "4         5.0\n",
              "         ... \n",
              "100831    4.0\n",
              "100832    5.0\n",
              "100833    5.0\n",
              "100834    5.0\n",
              "100835    3.0\n",
              "Name: nota, Length: 100836, dtype: float64"
            ]
          },
          "metadata": {
            "tags": []
          },
          "execution_count": 62
        }
      ]
    },
    {
      "cell_type": "code",
      "metadata": {
        "id": "3MkZDkZZF4Hr",
        "colab_type": "code",
        "colab": {
          "base_uri": "https://localhost:8080/",
          "height": 34
        },
        "outputId": "92dec0eb-7899-4fc7-e20c-a48834b5366f"
      },
      "source": [
        "avaliacoes[\"nota\"].mean()"
      ],
      "execution_count": 63,
      "outputs": [
        {
          "output_type": "execute_result",
          "data": {
            "text/plain": [
              "3.501556983616962"
            ]
          },
          "metadata": {
            "tags": []
          },
          "execution_count": 63
        }
      ]
    },
    {
      "cell_type": "markdown",
      "metadata": {
        "id": "jB88kcKHGMwI",
        "colab_type": "text"
      },
      "source": [
        "Podemos calcular também a nota média do `filmeId == 1`, repare que o resultado é um pouco maior que a geral. Apenas com essa análise não da para bater o martelo que o filme 1 é acima da média, mas apenas com essa análise conseguimos formular **uma primeira hipótese**!"
      ]
    },
    {
      "cell_type": "code",
      "metadata": {
        "id": "e_ykhg2LGK6J",
        "colab_type": "code",
        "colab": {
          "base_uri": "https://localhost:8080/",
          "height": 34
        },
        "outputId": "98e697e6-e6cf-4039-8b67-9c960d46ddb9"
      },
      "source": [
        "avaliacoes_filme1[\"nota\"].mean()"
      ],
      "execution_count": 64,
      "outputs": [
        {
          "output_type": "execute_result",
          "data": {
            "text/plain": [
              "3.9209302325581397"
            ]
          },
          "metadata": {
            "tags": []
          },
          "execution_count": 64
        }
      ]
    },
    {
      "cell_type": "markdown",
      "metadata": {
        "id": "NFfU2cexGHbT",
        "colab_type": "text"
      },
      "source": [
        "Após calcularmos a média geral e uma média para o `filmeId == 1`. Agora vamos calcular a média das notas para **todos** os filmes, podemos fazer isso usando o método `.groupby(filmeId)`, o parâmetro passado é para indicar qual coluna ele deve utilizar para \"agrupar\" os dados. Depois só calcular a média como fizemos anteriormente."
      ]
    },
    {
      "cell_type": "code",
      "metadata": {
        "id": "bbEfbPFrhHM5",
        "colab_type": "code",
        "outputId": "952088df-a397-48f4-cabf-404a2c319a84",
        "colab": {
          "base_uri": "https://localhost:8080/",
          "height": 136
        }
      },
      "source": [
        "media_notas_por_filme = avaliacoes.groupby('filmeId')['nota'].mean() \n",
        "media_notas_por_filme.head()"
      ],
      "execution_count": 65,
      "outputs": [
        {
          "output_type": "execute_result",
          "data": {
            "text/plain": [
              "filmeId\n",
              "1    3.920930\n",
              "2    3.431818\n",
              "3    3.259615\n",
              "4    2.357143\n",
              "5    3.071429\n",
              "Name: nota, dtype: float64"
            ]
          },
          "metadata": {
            "tags": []
          },
          "execution_count": 65
        }
      ]
    },
    {
      "cell_type": "markdown",
      "metadata": {
        "id": "W5cQONcFY4ry",
        "colab_type": "text"
      },
      "source": [
        "Temos as notas médias calculadas, mas agora precisamos juntar as informações de notas médias com a base de dados **filmes**.\n",
        "\n",
        "Poderíamos criar uma nova coluna e atribuir a váriável `filmes_com_media`,:\n",
        "\n",
        "```filmes[\"nota_media\"] = notas_medias_por_filme```\n",
        "\n",
        "Como discutimos em aula, essa não é uma boa prática pois precisamos garantir que a nota média seja do respectivo filme.\n",
        "\n",
        "Para garantir essa condição vamos utilizar o `.join()`, criando um novo dataframe (`filmes_com_media = filmes.join(notas_medias_por_filme, on=\"filmeId\")`). \n"
      ]
    },
    {
      "cell_type": "code",
      "metadata": {
        "id": "BXsIeFREjLGQ",
        "colab_type": "code",
        "outputId": "83fbc44c-7398-44c4-9cae-be82237726cf",
        "colab": {
          "base_uri": "https://localhost:8080/",
          "height": 204
        }
      },
      "source": [
        "filmes_com_media = filmes.join(media_notas_por_filme, on='filmeId')\n",
        "filmes_com_media.head()"
      ],
      "execution_count": 66,
      "outputs": [
        {
          "output_type": "execute_result",
          "data": {
            "text/html": [
              "<div>\n",
              "<style scoped>\n",
              "    .dataframe tbody tr th:only-of-type {\n",
              "        vertical-align: middle;\n",
              "    }\n",
              "\n",
              "    .dataframe tbody tr th {\n",
              "        vertical-align: top;\n",
              "    }\n",
              "\n",
              "    .dataframe thead th {\n",
              "        text-align: right;\n",
              "    }\n",
              "</style>\n",
              "<table border=\"1\" class=\"dataframe\">\n",
              "  <thead>\n",
              "    <tr style=\"text-align: right;\">\n",
              "      <th></th>\n",
              "      <th>filmeId</th>\n",
              "      <th>titulo</th>\n",
              "      <th>generos</th>\n",
              "      <th>nota</th>\n",
              "    </tr>\n",
              "  </thead>\n",
              "  <tbody>\n",
              "    <tr>\n",
              "      <th>0</th>\n",
              "      <td>1</td>\n",
              "      <td>Toy Story (1995)</td>\n",
              "      <td>Adventure|Animation|Children|Comedy|Fantasy</td>\n",
              "      <td>3.920930</td>\n",
              "    </tr>\n",
              "    <tr>\n",
              "      <th>1</th>\n",
              "      <td>2</td>\n",
              "      <td>Jumanji (1995)</td>\n",
              "      <td>Adventure|Children|Fantasy</td>\n",
              "      <td>3.431818</td>\n",
              "    </tr>\n",
              "    <tr>\n",
              "      <th>2</th>\n",
              "      <td>3</td>\n",
              "      <td>Grumpier Old Men (1995)</td>\n",
              "      <td>Comedy|Romance</td>\n",
              "      <td>3.259615</td>\n",
              "    </tr>\n",
              "    <tr>\n",
              "      <th>3</th>\n",
              "      <td>4</td>\n",
              "      <td>Waiting to Exhale (1995)</td>\n",
              "      <td>Comedy|Drama|Romance</td>\n",
              "      <td>2.357143</td>\n",
              "    </tr>\n",
              "    <tr>\n",
              "      <th>4</th>\n",
              "      <td>5</td>\n",
              "      <td>Father of the Bride Part II (1995)</td>\n",
              "      <td>Comedy</td>\n",
              "      <td>3.071429</td>\n",
              "    </tr>\n",
              "  </tbody>\n",
              "</table>\n",
              "</div>"
            ],
            "text/plain": [
              "   filmeId  ...      nota\n",
              "0        1  ...  3.920930\n",
              "1        2  ...  3.431818\n",
              "2        3  ...  3.259615\n",
              "3        4  ...  2.357143\n",
              "4        5  ...  3.071429\n",
              "\n",
              "[5 rows x 4 columns]"
            ]
          },
          "metadata": {
            "tags": []
          },
          "execution_count": 66
        }
      ]
    },
    {
      "cell_type": "markdown",
      "metadata": {
        "id": "jZ9IX6_IaV6Z",
        "colab_type": "text"
      },
      "source": [
        "Vamos agora mudar o nome da coluna `notas` para o que ela representa agora: a média das notas."
      ]
    },
    {
      "cell_type": "code",
      "metadata": {
        "id": "lw2UgdgOaVdp",
        "colab_type": "code",
        "colab": {}
      },
      "source": [
        "filmes_com_media.columns = ['filmeId','titulo','genero','notaMedia']"
      ],
      "execution_count": 0,
      "outputs": []
    },
    {
      "cell_type": "markdown",
      "metadata": {
        "id": "Nv59qL4VZSNX",
        "colab_type": "text"
      },
      "source": [
        "Agora que temos as médias, que tal visualizar o nosso dataframe ordenado pela nota de forma crescente."
      ]
    },
    {
      "cell_type": "code",
      "metadata": {
        "id": "gr9XB201lFkS",
        "colab_type": "code",
        "outputId": "eb2ebabc-97c4-4760-ed24-4c489a2ffce8",
        "colab": {
          "base_uri": "https://localhost:8080/",
          "height": 419
        }
      },
      "source": [
        "filmes_com_media.sort_values('notaMedia', ascending=False)"
      ],
      "execution_count": 79,
      "outputs": [
        {
          "output_type": "execute_result",
          "data": {
            "text/html": [
              "<div>\n",
              "<style scoped>\n",
              "    .dataframe tbody tr th:only-of-type {\n",
              "        vertical-align: middle;\n",
              "    }\n",
              "\n",
              "    .dataframe tbody tr th {\n",
              "        vertical-align: top;\n",
              "    }\n",
              "\n",
              "    .dataframe thead th {\n",
              "        text-align: right;\n",
              "    }\n",
              "</style>\n",
              "<table border=\"1\" class=\"dataframe\">\n",
              "  <thead>\n",
              "    <tr style=\"text-align: right;\">\n",
              "      <th></th>\n",
              "      <th>filmeId</th>\n",
              "      <th>titulo</th>\n",
              "      <th>genero</th>\n",
              "      <th>notaMedia</th>\n",
              "    </tr>\n",
              "  </thead>\n",
              "  <tbody>\n",
              "    <tr>\n",
              "      <th>7656</th>\n",
              "      <td>88448</td>\n",
              "      <td>Paper Birds (Pájaros de papel) (2010)</td>\n",
              "      <td>Comedy|Drama</td>\n",
              "      <td>5.0</td>\n",
              "    </tr>\n",
              "    <tr>\n",
              "      <th>8107</th>\n",
              "      <td>100556</td>\n",
              "      <td>Act of Killing, The (2012)</td>\n",
              "      <td>Documentary</td>\n",
              "      <td>5.0</td>\n",
              "    </tr>\n",
              "    <tr>\n",
              "      <th>9083</th>\n",
              "      <td>143031</td>\n",
              "      <td>Jump In! (2007)</td>\n",
              "      <td>Comedy|Drama|Romance</td>\n",
              "      <td>5.0</td>\n",
              "    </tr>\n",
              "    <tr>\n",
              "      <th>9094</th>\n",
              "      <td>143511</td>\n",
              "      <td>Human (2015)</td>\n",
              "      <td>Documentary</td>\n",
              "      <td>5.0</td>\n",
              "    </tr>\n",
              "    <tr>\n",
              "      <th>9096</th>\n",
              "      <td>143559</td>\n",
              "      <td>L.A. Slasher (2015)</td>\n",
              "      <td>Comedy|Crime|Fantasy</td>\n",
              "      <td>5.0</td>\n",
              "    </tr>\n",
              "    <tr>\n",
              "      <th>...</th>\n",
              "      <td>...</td>\n",
              "      <td>...</td>\n",
              "      <td>...</td>\n",
              "      <td>...</td>\n",
              "    </tr>\n",
              "    <tr>\n",
              "      <th>5749</th>\n",
              "      <td>30892</td>\n",
              "      <td>In the Realms of the Unreal (2004)</td>\n",
              "      <td>Animation|Documentary</td>\n",
              "      <td>NaN</td>\n",
              "    </tr>\n",
              "    <tr>\n",
              "      <th>5824</th>\n",
              "      <td>32160</td>\n",
              "      <td>Twentieth Century (1934)</td>\n",
              "      <td>Comedy</td>\n",
              "      <td>NaN</td>\n",
              "    </tr>\n",
              "    <tr>\n",
              "      <th>5837</th>\n",
              "      <td>32371</td>\n",
              "      <td>Call Northside 777 (1948)</td>\n",
              "      <td>Crime|Drama|Film-Noir</td>\n",
              "      <td>NaN</td>\n",
              "    </tr>\n",
              "    <tr>\n",
              "      <th>5957</th>\n",
              "      <td>34482</td>\n",
              "      <td>Browning Version, The (1951)</td>\n",
              "      <td>Drama</td>\n",
              "      <td>NaN</td>\n",
              "    </tr>\n",
              "    <tr>\n",
              "      <th>7565</th>\n",
              "      <td>85565</td>\n",
              "      <td>Chalet Girl (2011)</td>\n",
              "      <td>Comedy|Romance</td>\n",
              "      <td>NaN</td>\n",
              "    </tr>\n",
              "  </tbody>\n",
              "</table>\n",
              "<p>9742 rows × 4 columns</p>\n",
              "</div>"
            ],
            "text/plain": [
              "      filmeId  ... notaMedia\n",
              "7656    88448  ...       5.0\n",
              "8107   100556  ...       5.0\n",
              "9083   143031  ...       5.0\n",
              "9094   143511  ...       5.0\n",
              "9096   143559  ...       5.0\n",
              "...       ...  ...       ...\n",
              "5749    30892  ...       NaN\n",
              "5824    32160  ...       NaN\n",
              "5837    32371  ...       NaN\n",
              "5957    34482  ...       NaN\n",
              "7565    85565  ...       NaN\n",
              "\n",
              "[9742 rows x 4 columns]"
            ]
          },
          "metadata": {
            "tags": []
          },
          "execution_count": 79
        }
      ]
    },
    {
      "cell_type": "markdown",
      "metadata": {
        "id": "JLUvaDUpZfyj",
        "colab_type": "text"
      },
      "source": [
        "O pandas facilita muito o plot de alguns gráficos simples, apenas selecionamos a informação que gostaríamos de visualizar e chamamos o método `.plot()`"
      ]
    },
    {
      "cell_type": "code",
      "metadata": {
        "id": "eD__NOlHln68",
        "colab_type": "code",
        "outputId": "35521217-c65d-4063-89aa-b554d32429e3",
        "colab": {
          "base_uri": "https://localhost:8080/",
          "height": 282
        }
      },
      "source": [
        "avaliacoes.query(\"filmeId == 1\")[\"nota\"].plot()"
      ],
      "execution_count": 80,
      "outputs": [
        {
          "output_type": "execute_result",
          "data": {
            "text/plain": [
              "<matplotlib.axes._subplots.AxesSubplot at 0x7f19e7507400>"
            ]
          },
          "metadata": {
            "tags": []
          },
          "execution_count": 80
        },
        {
          "output_type": "display_data",
          "data": {
            "image/png": "[encoded data removed]",
            "text/plain": [
              "<Figure size 432x288 with 1 Axes>"
            ]
          },
          "metadata": {
            "tags": [],
            "needs_background": "light"
          }
        }
      ]
    },
    {
      "cell_type": "markdown",
      "metadata": {
        "id": "4UaDOTTcZtQ5",
        "colab_type": "text"
      },
      "source": [
        "Por padrão o método plotou um gráfico de linhas, o que não é adequado para os dados que estamos analisando.\n",
        "\n",
        "Vamos mudar o tipo de gráfico para realizar uma análise mais adequada.\n",
        "\n",
        "Para isso apenas alteraremos o parâmetro **kind** do método `.plot`. Vamos plotar um [histograma](https://pt.wikipedia.org/wiki/Histograma) rodando a célula a seguir."
      ]
    },
    {
      "cell_type": "markdown",
      "metadata": {
        "id": "ssglkNNMbvCR",
        "colab_type": "text"
      },
      "source": [
        "**Toy Story**"
      ]
    },
    {
      "cell_type": "code",
      "metadata": {
        "id": "1scwLNDmoSc6",
        "colab_type": "code",
        "outputId": "4f472b77-5d0f-4bea-866b-79446a9371de",
        "colab": {
          "base_uri": "https://localhost:8080/",
          "height": 298
        }
      },
      "source": [
        "avaliacoes.query('filmeId == 1')['nota'].plot(kind='hist')\n",
        "plt.title('Avaliações do filme Toy Story')"
      ],
      "execution_count": 81,
      "outputs": [
        {
          "output_type": "execute_result",
          "data": {
            "text/plain": [
              "Text(0.5, 1.0, 'Avaliações do filme Toy Story')"
            ]
          },
          "metadata": {
            "tags": []
          },
          "execution_count": 81
        },
        {
          "output_type": "display_data",
          "data": {
            "image/png": "[encoded data removed]",
            "text/plain": [
              "<Figure size 432x288 with 1 Axes>"
            ]
          },
          "metadata": {
            "tags": [],
            "needs_background": "light"
          }
        }
      ]
    },
    {
      "cell_type": "markdown",
      "metadata": {
        "id": "ip30QAQmb15G",
        "colab_type": "text"
      },
      "source": [
        "**Jumanji**"
      ]
    },
    {
      "cell_type": "code",
      "metadata": {
        "id": "M-ovI-JYb1qL",
        "colab_type": "code",
        "colab": {}
      },
      "source": [
        "avaliacoes.query(\"filmeId == 2\")[\"nota\"].plot(kind='hist',\n",
        "                                              title=\"Avaliações do filme Toy Jumanji\")"
      ],
      "execution_count": 0,
      "outputs": []
    },
    {
      "cell_type": "markdown",
      "metadata": {
        "id": "hcXFPHk5b5j5",
        "colab_type": "text"
      },
      "source": [
        "**Filme aleatório escolhido com ID == 102084**"
      ]
    },
    {
      "cell_type": "code",
      "metadata": {
        "id": "qJmi16q2b5SS",
        "colab_type": "code",
        "colab": {}
      },
      "source": [
        "avaliacoes.query(\"filmeId == 102084\")[\"nota\"].plot(kind='hist',\n",
        "                                                   title=\"Avaliações do filme Justice League: Doom\")"
      ],
      "execution_count": 0,
      "outputs": []
    },
    {
      "cell_type": "markdown",
      "metadata": {
        "id": "E5fH5CnNcIGW",
        "colab_type": "text"
      },
      "source": [
        "##Hipóteses"
      ]
    },
    {
      "cell_type": "markdown",
      "metadata": {
        "id": "SvtYNYskbV9D",
        "colab_type": "text"
      },
      "source": [
        "A primeira coisa que precisamosnoa atentar ao usar gráficos é o que cada eixo do gráfico significa. \n",
        "\n",
        "No exemplo acima por exemplo, o eixo **x** mostra a nota, enquanto eixo **y** a frequência das notas (quantas vezes determinada nota foi dada). \n",
        "\n",
        "Entendios esses parâmetros do gráfico, vamos contextualizar o cenário que estamos analisando:\n",
        "\n",
        "- Temos 3 filmes, dois muito populares (Toy story e Jumanji) e outro (animação da liga da justiça). \n",
        "- Um fato nos chamou a atenção: a animação da Liga da Justiça tinha média de nota 5. **Será que Justice League: Doom é um filme tão bom assim?** Num primeiro momento parecia que ele realmente era popular. Mas ao analisar o histograma do respectivo filme, verificamos que ele só teve uma avaliação igual a 5, logo, fica evidente que a **quantidade de votos é um aspecto importante na avaliação das médias**. \n",
        "\n",
        "Com apenas uma avaliação, não conseguimos garantir que o filme é realmente bom, tornando a avaliação muito \"volátil\". Imagina que Liga da Justiça receba mais uma avaliação, com nota 0, assim a média seria 2.5. Apenas com mais essa avaliação o filme passaria a ser considerada um \"pior\" que Jumanji e Toy Story.\n",
        "\n",
        "- Outro ponto interessante é comparar o histograma de Toy Story e Jumanji, ambos tem médias \"relativamente próximas\". Mas repare que a distribuição de notas são diferentes, Toy Story recebe mais notas 5 e 4 que qualquer outra nota, enquanto Jumanji recebe mais notas 4 e 3, assim concluímos que a **distribuição das notas também é um fator importante na avaliação das médias**."
      ]
    },
    {
      "cell_type": "markdown",
      "metadata": {
        "id": "jxQPR_josOIG",
        "colab_type": "text"
      },
      "source": [
        "##**Desafios**"
      ]
    },
    {
      "cell_type": "markdown",
      "metadata": {
        "id": "ssRREJb7rLyd",
        "colab_type": "text"
      },
      "source": [
        "**Desafio 1** do Paulo Silveira\n"
      ]
    },
    {
      "cell_type": "markdown",
      "metadata": {
        "id": "H6lkqbl7rvwW",
        "colab_type": "text"
      },
      "source": [
        "O Paulo fez uma análise rápida e disse que tem 18 filmes sem avaliações, será que ele acertou?  Determine quantos filmes não tem avaliações e quais são esses filmes."
      ]
    },
    {
      "cell_type": "markdown",
      "metadata": {
        "id": "zux4AXMZrRj2",
        "colab_type": "text"
      },
      "source": [
        "\n",
        "**Desafio 2** do Guilherme Silveira\n"
      ]
    },
    {
      "cell_type": "markdown",
      "metadata": {
        "id": "9mO7JGdXrlSG",
        "colab_type": "text"
      },
      "source": [
        "Mudar o nome da coluna nota do dataframe filmes_com_media para nota_média após o join."
      ]
    },
    {
      "cell_type": "markdown",
      "metadata": {
        "id": "Mg-IyJm_rTrv",
        "colab_type": "text"
      },
      "source": [
        "**Desafio 3** do Guilherme Silveira"
      ]
    },
    {
      "cell_type": "markdown",
      "metadata": {
        "id": "IplXp90ornn-",
        "colab_type": "text"
      },
      "source": [
        "Colocar o número de avaliações por filme, isto é, não só a média mas o TOTAL de votos por filme."
      ]
    },
    {
      "cell_type": "markdown",
      "metadata": {
        "id": "I_7yjwOnrWiO",
        "colab_type": "text"
      },
      "source": [
        "**Desafio 4** do Thiago Gonçalves"
      ]
    },
    {
      "cell_type": "markdown",
      "metadata": {
        "id": "6GbviK_8r7bP",
        "colab_type": "text"
      },
      "source": [
        "Arredondar as médias (coluna de nota média) para duas casas decimais."
      ]
    },
    {
      "cell_type": "markdown",
      "metadata": {
        "id": "Eo_MoRsErYLI",
        "colab_type": "text"
      },
      "source": [
        "**Desafio 5** do Allan Spadini"
      ]
    },
    {
      "cell_type": "markdown",
      "metadata": {
        "id": "sEijLKUmsBfQ",
        "colab_type": "text"
      },
      "source": [
        "Descobrir os generos dos filmes (quais são eles, únicos). (esse aqui o bicho pega)"
      ]
    },
    {
      "cell_type": "markdown",
      "metadata": {
        "id": "ji2z46x7rZ5i",
        "colab_type": "text"
      },
      "source": [
        "**Desafio 6** da Thais André"
      ]
    },
    {
      "cell_type": "markdown",
      "metadata": {
        "id": "vVP_nRfVsHZW",
        "colab_type": "text"
      },
      "source": [
        "Contar o número de aparições de cada genero."
      ]
    },
    {
      "cell_type": "markdown",
      "metadata": {
        "id": "qmN4mlhZrb53",
        "colab_type": "text"
      },
      "source": [
        "**Desafio 7** do Guilherme Silveira"
      ]
    },
    {
      "cell_type": "markdown",
      "metadata": {
        "id": "XCJslVADsMOH",
        "colab_type": "text"
      },
      "source": [
        "Plotar o gráfico de aparições de cada genero. Pode ser um gráfico de tipo igual a barra."
      ]
    },
    {
      "cell_type": "markdown",
      "metadata": {
        "id": "9w-7EIBEdTDM",
        "colab_type": "text"
      },
      "source": [
        "**As respostas dos desafios podem ser encontradas [aqui](https://github.com/leticiagomescs/QuarentenaDados-Alura/blob/master/Aula%201:%20Python%2C%20Pandas%20e%20Colab/Desafios-Aula_01.ipynb)**"
      ]
    },
    {
      "cell_type": "code",
      "metadata": {
        "id": "tJ8ae_rIdfFR",
        "colab_type": "code",
        "colab": {}
      },
      "source": [
        ""
      ],
      "execution_count": 0,
      "outputs": []
    }
  ]
}
