{
  "nbformat": 4,
  "nbformat_minor": 0,
  "metadata": {
    "colab": {
      "name": "Aula_01.ipynb",
      "provenance": [],
      "collapsed_sections": [
        "cp2jhYUb_2dt",
        "EdpQKe4F_8Ju"
      ],
      "toc_visible": true,
      "authorship_tag": "ABX9TyNUqrnKynHdlJoJHw0cjBb8",
      "include_colab_link": true
    },
    "kernelspec": {
      "name": "python3",
      "display_name": "Python 3"
    }
  },
  "cells": [
    {
      "cell_type": "markdown",
      "metadata": {
        "id": "view-in-github",
        "colab_type": "text"
      },
      "source": [
        "<a href=\"https://colab.research.google.com/github/leticiagomescs/QuarentenaDados-Alura/blob/master/Aula_01.ipynb\" target=\"_parent\"><img src=\"https://colab.research.google.com/assets/colab-badge.svg\" alt=\"Open In Colab\"/></a>"
      ]
    },
    {
      "cell_type": "code",
      "metadata": {
        "id": "5xNlka7kAnOL",
        "colab_type": "code",
        "colab": {}
      },
      "source": [
        ""
      ],
      "execution_count": 0,
      "outputs": []
    },
    {
      "cell_type": "markdown",
      "metadata": {
        "id": "f7ibSyNTXtv9",
        "colab_type": "text"
      },
      "source": [
        "\n",
        "<h1> Aula 01 - Quarentena Dados"
      ]
    },
    {
      "cell_type": "markdown",
      "metadata": {
        "id": "XmnHXBqa-HU8",
        "colab_type": "text"
      },
      "source": [
        "##Importando as Bibliotecas"
      ]
    },
    {
      "cell_type": "code",
      "metadata": {
        "id": "eLJhElhQ-Bn2",
        "colab_type": "code",
        "colab": {}
      },
      "source": [
        "import pandas as pd\n",
        "import matplotlib.pyplot as plt"
      ],
      "execution_count": 0,
      "outputs": []
    },
    {
      "cell_type": "markdown",
      "metadata": {
        "id": "BUHNzlDu-ibj",
        "colab_type": "text"
      },
      "source": [
        "##Importando os conjuntos de dados"
      ]
    },
    {
      "cell_type": "markdown",
      "metadata": {
        "id": "cp2jhYUb_2dt",
        "colab_type": "text"
      },
      "source": [
        "###Filmes"
      ]
    },
    {
      "cell_type": "code",
      "metadata": {
        "id": "Qx9q0jVgBIdI",
        "colab_type": "code",
        "outputId": "fb32ee6a-32de-449a-d989-5cea231445e7",
        "colab": {
          "base_uri": "https://localhost:8080/",
          "height": 34
        }
      },
      "source": [
        "# Importando o conjunto de dados:\n",
        "filmes = pd.read_csv('https://raw.githubusercontent.com/alura-cursos/introducao-a-data-science/master/aula0/ml-latest-small/movies.csv')\n",
        "\n",
        "# Quais são as colunas do dataframe filmes:\n",
        "filmes.columns"
      ],
      "execution_count": 3,
      "outputs": [
        {
          "output_type": "execute_result",
          "data": {
            "text/plain": [
              "Index(['movieId', 'title', 'genres'], dtype='object')"
            ]
          },
          "metadata": {
            "tags": []
          },
          "execution_count": 3
        }
      ]
    },
    {
      "cell_type": "code",
      "metadata": {
        "id": "s9QOxeRx_Mk_",
        "colab_type": "code",
        "colab": {}
      },
      "source": [
        "# Renomeando as colunas do dataframe filmes:\n",
        "filmes.columns = ['filmeId','titulo','generos']"
      ],
      "execution_count": 0,
      "outputs": []
    },
    {
      "cell_type": "markdown",
      "metadata": {
        "id": "K8o4YfwYBOLI",
        "colab_type": "text"
      },
      "source": [
        "Para visualizar algumas linhas estamos usando o ```.head()```, como ela mostra apenas as 5 primeiras linhas não sabemos qual é a quantidade de linhas que temos. "
      ]
    },
    {
      "cell_type": "code",
      "metadata": {
        "id": "k3DRQphABOtd",
        "colab_type": "code",
        "colab": {
          "base_uri": "https://localhost:8080/",
          "height": 204
        },
        "outputId": "ccdc954c-5a22-4298-e7b8-6db824b7f858"
      },
      "source": [
        "# Imprimindo as 5 primeiras linhas do dataframe:\n",
        "filmes.head()"
      ],
      "execution_count": 5,
      "outputs": [
        {
          "output_type": "execute_result",
          "data": {
            "text/html": [
              "<div>\n",
              "<style scoped>\n",
              "    .dataframe tbody tr th:only-of-type {\n",
              "        vertical-align: middle;\n",
              "    }\n",
              "\n",
              "    .dataframe tbody tr th {\n",
              "        vertical-align: top;\n",
              "    }\n",
              "\n",
              "    .dataframe thead th {\n",
              "        text-align: right;\n",
              "    }\n",
              "</style>\n",
              "<table border=\"1\" class=\"dataframe\">\n",
              "  <thead>\n",
              "    <tr style=\"text-align: right;\">\n",
              "      <th></th>\n",
              "      <th>filmeId</th>\n",
              "      <th>titulo</th>\n",
              "      <th>generos</th>\n",
              "    </tr>\n",
              "  </thead>\n",
              "  <tbody>\n",
              "    <tr>\n",
              "      <th>0</th>\n",
              "      <td>1</td>\n",
              "      <td>Toy Story (1995)</td>\n",
              "      <td>Adventure|Animation|Children|Comedy|Fantasy</td>\n",
              "    </tr>\n",
              "    <tr>\n",
              "      <th>1</th>\n",
              "      <td>2</td>\n",
              "      <td>Jumanji (1995)</td>\n",
              "      <td>Adventure|Children|Fantasy</td>\n",
              "    </tr>\n",
              "    <tr>\n",
              "      <th>2</th>\n",
              "      <td>3</td>\n",
              "      <td>Grumpier Old Men (1995)</td>\n",
              "      <td>Comedy|Romance</td>\n",
              "    </tr>\n",
              "    <tr>\n",
              "      <th>3</th>\n",
              "      <td>4</td>\n",
              "      <td>Waiting to Exhale (1995)</td>\n",
              "      <td>Comedy|Drama|Romance</td>\n",
              "    </tr>\n",
              "    <tr>\n",
              "      <th>4</th>\n",
              "      <td>5</td>\n",
              "      <td>Father of the Bride Part II (1995)</td>\n",
              "      <td>Comedy</td>\n",
              "    </tr>\n",
              "  </tbody>\n",
              "</table>\n",
              "</div>"
            ],
            "text/plain": [
              "   filmeId  ...                                      generos\n",
              "0        1  ...  Adventure|Animation|Children|Comedy|Fantasy\n",
              "1        2  ...                   Adventure|Children|Fantasy\n",
              "2        3  ...                               Comedy|Romance\n",
              "3        4  ...                         Comedy|Drama|Romance\n",
              "4        5  ...                                       Comedy\n",
              "\n",
              "[5 rows x 3 columns]"
            ]
          },
          "metadata": {
            "tags": []
          },
          "execution_count": 5
        }
      ]
    },
    {
      "cell_type": "code",
      "metadata": {
        "id": "P9F4tDr7eAqU",
        "colab_type": "code",
        "colab": {}
      },
      "source": [
        "# Lendo a documentação de um método/atributo:\n",
        "?filmes.head"
      ],
      "execution_count": 0,
      "outputs": []
    },
    {
      "cell_type": "markdown",
      "metadata": {
        "id": "EdpQKe4F_8Ju",
        "colab_type": "text"
      },
      "source": [
        "###Avaliações dos filmes"
      ]
    },
    {
      "cell_type": "code",
      "metadata": {
        "id": "W2cnF6ZpelcY",
        "colab_type": "code",
        "outputId": "559eff9d-c0de-4a42-ee95-0899805cde65",
        "colab": {
          "base_uri": "https://localhost:8080/",
          "height": 204
        }
      },
      "source": [
        "# Importando o conjunto de dados: \n",
        "avaliacoes = pd.read_csv('https://raw.githubusercontent.com/alura-cursos/introducao-a-data-science/master/aula0/ml-latest-small/ratings.csv')\n",
        "\n",
        "# Imprimindo as 5 primeiras linhas do dataframe: \n",
        "avaliacoes.head()"
      ],
      "execution_count": 7,
      "outputs": [
        {
          "output_type": "execute_result",
          "data": {
            "text/html": [
              "<div>\n",
              "<style scoped>\n",
              "    .dataframe tbody tr th:only-of-type {\n",
              "        vertical-align: middle;\n",
              "    }\n",
              "\n",
              "    .dataframe tbody tr th {\n",
              "        vertical-align: top;\n",
              "    }\n",
              "\n",
              "    .dataframe thead th {\n",
              "        text-align: right;\n",
              "    }\n",
              "</style>\n",
              "<table border=\"1\" class=\"dataframe\">\n",
              "  <thead>\n",
              "    <tr style=\"text-align: right;\">\n",
              "      <th></th>\n",
              "      <th>userId</th>\n",
              "      <th>movieId</th>\n",
              "      <th>rating</th>\n",
              "      <th>timestamp</th>\n",
              "    </tr>\n",
              "  </thead>\n",
              "  <tbody>\n",
              "    <tr>\n",
              "      <th>0</th>\n",
              "      <td>1</td>\n",
              "      <td>1</td>\n",
              "      <td>4.0</td>\n",
              "      <td>964982703</td>\n",
              "    </tr>\n",
              "    <tr>\n",
              "      <th>1</th>\n",
              "      <td>1</td>\n",
              "      <td>3</td>\n",
              "      <td>4.0</td>\n",
              "      <td>964981247</td>\n",
              "    </tr>\n",
              "    <tr>\n",
              "      <th>2</th>\n",
              "      <td>1</td>\n",
              "      <td>6</td>\n",
              "      <td>4.0</td>\n",
              "      <td>964982224</td>\n",
              "    </tr>\n",
              "    <tr>\n",
              "      <th>3</th>\n",
              "      <td>1</td>\n",
              "      <td>47</td>\n",
              "      <td>5.0</td>\n",
              "      <td>964983815</td>\n",
              "    </tr>\n",
              "    <tr>\n",
              "      <th>4</th>\n",
              "      <td>1</td>\n",
              "      <td>50</td>\n",
              "      <td>5.0</td>\n",
              "      <td>964982931</td>\n",
              "    </tr>\n",
              "  </tbody>\n",
              "</table>\n",
              "</div>"
            ],
            "text/plain": [
              "   userId  movieId  rating  timestamp\n",
              "0       1        1     4.0  964982703\n",
              "1       1        3     4.0  964981247\n",
              "2       1        6     4.0  964982224\n",
              "3       1       47     5.0  964983815\n",
              "4       1       50     5.0  964982931"
            ]
          },
          "metadata": {
            "tags": []
          },
          "execution_count": 7
        }
      ]
    },
    {
      "cell_type": "markdown",
      "metadata": {
        "id": "3SfZkRr1AeVG",
        "colab_type": "text"
      },
      "source": [
        "##Análise Exploratória"
      ]
    },
    {
      "cell_type": "markdown",
      "metadata": {
        "id": "Po2QrDj2BZn9",
        "colab_type": "text"
      },
      "source": [
        "Para descobrir o tamanho do nosso dataframe podemos utilizar o comando ```avaliacoes.shape```, que retornará uma [tupla](https://www.alura.com.br/artigos/conhecendo-as-tuplas-no-python), onde o primeiro termo indica o número de linhas e o segundo o número de colunas."
      ]
    },
    {
      "cell_type": "code",
      "metadata": {
        "id": "CS-wK3tQf0Wn",
        "colab_type": "code",
        "outputId": "ddaae430-c9d7-4b4e-ef6d-386fc3230440",
        "colab": {
          "base_uri": "https://localhost:8080/",
          "height": 34
        }
      },
      "source": [
        "# Lendo a quantidade de linhas e colunas do dataframe:\n",
        "avaliacoes.shape"
      ],
      "execution_count": 16,
      "outputs": [
        {
          "output_type": "execute_result",
          "data": {
            "text/plain": [
              "(100836, 4)"
            ]
          },
          "metadata": {
            "tags": []
          },
          "execution_count": 16
        }
      ]
    },
    {
      "cell_type": "code",
      "metadata": {
        "id": "a4whPYsJgHzo",
        "colab_type": "code",
        "outputId": "bd52a008-99bd-47b3-fa2a-b621c0501ed9",
        "colab": {
          "base_uri": "https://localhost:8080/",
          "height": 34
        }
      },
      "source": [
        "# Lendo a quantidade de linhas do dataframe:\n",
        "len(avaliacoes)"
      ],
      "execution_count": 17,
      "outputs": [
        {
          "output_type": "execute_result",
          "data": {
            "text/plain": [
              "100836"
            ]
          },
          "metadata": {
            "tags": []
          },
          "execution_count": 17
        }
      ]
    },
    {
      "cell_type": "markdown",
      "metadata": {
        "id": "-3Hk0z_cCCKW",
        "colab_type": "text"
      },
      "source": [
        "Vamos substituir os nomes das colunas de inglês para português e entender o que são essas colunas. \n",
        "\n",
        "`usarioId`: ID para para usuário que votou em determinado filme.\n",
        "\n",
        "`filmeId`: ID para identificar um filme votado.\n",
        "\n",
        "`nota`: A nota dada para pelo usuário para o respectivo filme.\n",
        "\n",
        "`momento`: A data da votação que não está formatada como data\n",
        "\n",
        "Como cada linha contém um voto para o respectivo filme é de se esperar que um filme tenha diversos votos."
      ]
    },
    {
      "cell_type": "code",
      "metadata": {
        "id": "SYtLsiZogJxT",
        "colab_type": "code",
        "colab": {}
      },
      "source": [
        "# Renomeando as colunas:\n",
        "avaliacoes.columns = ['usuarioId','filmeId','nota','momento']"
      ],
      "execution_count": 0,
      "outputs": []
    },
    {
      "cell_type": "markdown",
      "metadata": {
        "id": "_hFpZZWQCbJ_",
        "colab_type": "text"
      },
      "source": [
        "Mas e se eu quiser analisar apenas as notas do filme 1, como posso separar essa informação?"
      ]
    },
    {
      "cell_type": "markdown",
      "metadata": {
        "id": "H2TywFOFC-T1",
        "colab_type": "text"
      },
      "source": [
        "Uma forma obter as informações apenas do filme cujo **Id = 1** é chamando o método ```avaliacaoes.query(\"filmeId==1\")```, esse método retornará apenas as linhas para quais a expressão booleana, **filmeId == 1**, for verdadeira."
      ]
    },
    {
      "cell_type": "code",
      "metadata": {
        "id": "PHtsL2Ftga6C",
        "colab_type": "code",
        "colab": {}
      },
      "source": [
        "# Selecionando um ID específico para analisar:\n",
        "avaliacoes_filme1 = avaliacoes.query('filmeId == 1')"
      ],
      "execution_count": 0,
      "outputs": []
    },
    {
      "cell_type": "markdown",
      "metadata": {
        "id": "GcaSaVXODCnu",
        "colab_type": "text"
      },
      "source": [
        "Tendo as informações do **filmeId == 1** podemos chamar o ```avaliacoes_do_filme_1.describe()```, para analisar as estatítiscas gerais dos dados."
      ]
    },
    {
      "cell_type": "code",
      "metadata": {
        "id": "aWMa7iYuDJmx",
        "colab_type": "code",
        "colab": {
          "base_uri": "https://localhost:8080/",
          "height": 297
        },
        "outputId": "9f0532a1-c567-4fc2-8126-74318183fab7"
      },
      "source": [
        "# \n",
        "avaliacoes.describe()"
      ],
      "execution_count": 34,
      "outputs": [
        {
          "output_type": "execute_result",
          "data": {
            "text/html": [
              "<div>\n",
              "<style scoped>\n",
              "    .dataframe tbody tr th:only-of-type {\n",
              "        vertical-align: middle;\n",
              "    }\n",
              "\n",
              "    .dataframe tbody tr th {\n",
              "        vertical-align: top;\n",
              "    }\n",
              "\n",
              "    .dataframe thead th {\n",
              "        text-align: right;\n",
              "    }\n",
              "</style>\n",
              "<table border=\"1\" class=\"dataframe\">\n",
              "  <thead>\n",
              "    <tr style=\"text-align: right;\">\n",
              "      <th></th>\n",
              "      <th>usuarioId</th>\n",
              "      <th>filmeId</th>\n",
              "      <th>nota</th>\n",
              "      <th>momento</th>\n",
              "    </tr>\n",
              "  </thead>\n",
              "  <tbody>\n",
              "    <tr>\n",
              "      <th>count</th>\n",
              "      <td>100836.000000</td>\n",
              "      <td>100836.000000</td>\n",
              "      <td>100836.000000</td>\n",
              "      <td>1.008360e+05</td>\n",
              "    </tr>\n",
              "    <tr>\n",
              "      <th>mean</th>\n",
              "      <td>326.127564</td>\n",
              "      <td>19435.295718</td>\n",
              "      <td>3.501557</td>\n",
              "      <td>1.205946e+09</td>\n",
              "    </tr>\n",
              "    <tr>\n",
              "      <th>std</th>\n",
              "      <td>182.618491</td>\n",
              "      <td>35530.987199</td>\n",
              "      <td>1.042529</td>\n",
              "      <td>2.162610e+08</td>\n",
              "    </tr>\n",
              "    <tr>\n",
              "      <th>min</th>\n",
              "      <td>1.000000</td>\n",
              "      <td>1.000000</td>\n",
              "      <td>0.500000</td>\n",
              "      <td>8.281246e+08</td>\n",
              "    </tr>\n",
              "    <tr>\n",
              "      <th>25%</th>\n",
              "      <td>177.000000</td>\n",
              "      <td>1199.000000</td>\n",
              "      <td>3.000000</td>\n",
              "      <td>1.019124e+09</td>\n",
              "    </tr>\n",
              "    <tr>\n",
              "      <th>50%</th>\n",
              "      <td>325.000000</td>\n",
              "      <td>2991.000000</td>\n",
              "      <td>3.500000</td>\n",
              "      <td>1.186087e+09</td>\n",
              "    </tr>\n",
              "    <tr>\n",
              "      <th>75%</th>\n",
              "      <td>477.000000</td>\n",
              "      <td>8122.000000</td>\n",
              "      <td>4.000000</td>\n",
              "      <td>1.435994e+09</td>\n",
              "    </tr>\n",
              "    <tr>\n",
              "      <th>max</th>\n",
              "      <td>610.000000</td>\n",
              "      <td>193609.000000</td>\n",
              "      <td>5.000000</td>\n",
              "      <td>1.537799e+09</td>\n",
              "    </tr>\n",
              "  </tbody>\n",
              "</table>\n",
              "</div>"
            ],
            "text/plain": [
              "           usuarioId        filmeId           nota       momento\n",
              "count  100836.000000  100836.000000  100836.000000  1.008360e+05\n",
              "mean      326.127564   19435.295718       3.501557  1.205946e+09\n",
              "std       182.618491   35530.987199       1.042529  2.162610e+08\n",
              "min         1.000000       1.000000       0.500000  8.281246e+08\n",
              "25%       177.000000    1199.000000       3.000000  1.019124e+09\n",
              "50%       325.000000    2991.000000       3.500000  1.186087e+09\n",
              "75%       477.000000    8122.000000       4.000000  1.435994e+09\n",
              "max       610.000000  193609.000000       5.000000  1.537799e+09"
            ]
          },
          "metadata": {
            "tags": []
          },
          "execution_count": 34
        }
      ]
    },
    {
      "cell_type": "markdown",
      "metadata": {
        "id": "csuoUtBYD79R",
        "colab_type": "text"
      },
      "source": [
        "Caso queira uma estatística particular, podemos apenas chamar o método desajado, repare abaixo como calculamos apenas a média(`mean`), mediana(`median`) e desvio padrão(`std`) das avaliações do **filmeId == 1**.\n",
        "\n",
        "> Indented block\n",
        "\n"
      ]
    },
    {
      "cell_type": "code",
      "metadata": {
        "id": "8gO7eiK9hs77",
        "colab_type": "code",
        "outputId": "c8e3b0cf-c8ee-4eb4-c91a-6513c1906385",
        "colab": {
          "base_uri": "https://localhost:8080/",
          "height": 102
        }
      },
      "source": [
        "# Obtendo a média:\n",
        "avaliacoes_filme1.mean()"
      ],
      "execution_count": 35,
      "outputs": [
        {
          "output_type": "execute_result",
          "data": {
            "text/plain": [
              "usuarioId    3.065302e+02\n",
              "filmeId      1.000000e+00\n",
              "nota         3.920930e+00\n",
              "momento      1.129835e+09\n",
              "dtype: float64"
            ]
          },
          "metadata": {
            "tags": []
          },
          "execution_count": 35
        }
      ]
    },
    {
      "cell_type": "code",
      "metadata": {
        "id": "ZaEmSv97EVF3",
        "colab_type": "code",
        "colab": {
          "base_uri": "https://localhost:8080/",
          "height": 102
        },
        "outputId": "21c3ef39-b4dd-4587-ac80-85794ea208d5"
      },
      "source": [
        "# Obtendo a mediana:\n",
        "avaliacoes_filme1.median()"
      ],
      "execution_count": 36,
      "outputs": [
        {
          "output_type": "execute_result",
          "data": {
            "text/plain": [
              "usuarioId    2.900000e+02\n",
              "filmeId      1.000000e+00\n",
              "nota         4.000000e+00\n",
              "momento      1.106855e+09\n",
              "dtype: float64"
            ]
          },
          "metadata": {
            "tags": []
          },
          "execution_count": 36
        }
      ]
    },
    {
      "cell_type": "code",
      "metadata": {
        "id": "8MIh2VUdEU2l",
        "colab_type": "code",
        "colab": {
          "base_uri": "https://localhost:8080/",
          "height": 102
        },
        "outputId": "8fbac2de-35d9-4da9-db48-18bf7f597f27"
      },
      "source": [
        "# Obtendo o desvio padrão:\n",
        "avaliacoes_filme1.std()"
      ],
      "execution_count": 37,
      "outputs": [
        {
          "output_type": "execute_result",
          "data": {
            "text/plain": [
              "usuarioId    1.804198e+02\n",
              "filmeId      0.000000e+00\n",
              "nota         8.348591e-01\n",
              "momento      2.393163e+08\n",
              "dtype: float64"
            ]
          },
          "metadata": {
            "tags": []
          },
          "execution_count": 37
        }
      ]
    },
    {
      "cell_type": "markdown",
      "metadata": {
        "id": "aN0-oyfaEnci",
        "colab_type": "text"
      },
      "source": [
        "Calcularemos agora as estatísicas para o todo o dataframe **avaliações** com o método ```.describe()```. Ele nos retorna valores estatpisticos para todas as variáveis numéricas do conjunto de dados. "
      ]
    },
    {
      "cell_type": "code",
      "metadata": {
        "id": "79sVb1YhEtZu",
        "colab_type": "code",
        "colab": {
          "base_uri": "https://localhost:8080/",
          "height": 297
        },
        "outputId": "3b278fd7-480b-4d86-90c2-b6ef3effa232"
      },
      "source": [
        "avaliacoes.describe()"
      ],
      "execution_count": 38,
      "outputs": [
        {
          "output_type": "execute_result",
          "data": {
            "text/html": [
              "<div>\n",
              "<style scoped>\n",
              "    .dataframe tbody tr th:only-of-type {\n",
              "        vertical-align: middle;\n",
              "    }\n",
              "\n",
              "    .dataframe tbody tr th {\n",
              "        vertical-align: top;\n",
              "    }\n",
              "\n",
              "    .dataframe thead th {\n",
              "        text-align: right;\n",
              "    }\n",
              "</style>\n",
              "<table border=\"1\" class=\"dataframe\">\n",
              "  <thead>\n",
              "    <tr style=\"text-align: right;\">\n",
              "      <th></th>\n",
              "      <th>usuarioId</th>\n",
              "      <th>filmeId</th>\n",
              "      <th>nota</th>\n",
              "      <th>momento</th>\n",
              "    </tr>\n",
              "  </thead>\n",
              "  <tbody>\n",
              "    <tr>\n",
              "      <th>count</th>\n",
              "      <td>100836.000000</td>\n",
              "      <td>100836.000000</td>\n",
              "      <td>100836.000000</td>\n",
              "      <td>1.008360e+05</td>\n",
              "    </tr>\n",
              "    <tr>\n",
              "      <th>mean</th>\n",
              "      <td>326.127564</td>\n",
              "      <td>19435.295718</td>\n",
              "      <td>3.501557</td>\n",
              "      <td>1.205946e+09</td>\n",
              "    </tr>\n",
              "    <tr>\n",
              "      <th>std</th>\n",
              "      <td>182.618491</td>\n",
              "      <td>35530.987199</td>\n",
              "      <td>1.042529</td>\n",
              "      <td>2.162610e+08</td>\n",
              "    </tr>\n",
              "    <tr>\n",
              "      <th>min</th>\n",
              "      <td>1.000000</td>\n",
              "      <td>1.000000</td>\n",
              "      <td>0.500000</td>\n",
              "      <td>8.281246e+08</td>\n",
              "    </tr>\n",
              "    <tr>\n",
              "      <th>25%</th>\n",
              "      <td>177.000000</td>\n",
              "      <td>1199.000000</td>\n",
              "      <td>3.000000</td>\n",
              "      <td>1.019124e+09</td>\n",
              "    </tr>\n",
              "    <tr>\n",
              "      <th>50%</th>\n",
              "      <td>325.000000</td>\n",
              "      <td>2991.000000</td>\n",
              "      <td>3.500000</td>\n",
              "      <td>1.186087e+09</td>\n",
              "    </tr>\n",
              "    <tr>\n",
              "      <th>75%</th>\n",
              "      <td>477.000000</td>\n",
              "      <td>8122.000000</td>\n",
              "      <td>4.000000</td>\n",
              "      <td>1.435994e+09</td>\n",
              "    </tr>\n",
              "    <tr>\n",
              "      <th>max</th>\n",
              "      <td>610.000000</td>\n",
              "      <td>193609.000000</td>\n",
              "      <td>5.000000</td>\n",
              "      <td>1.537799e+09</td>\n",
              "    </tr>\n",
              "  </tbody>\n",
              "</table>\n",
              "</div>"
            ],
            "text/plain": [
              "           usuarioId        filmeId           nota       momento\n",
              "count  100836.000000  100836.000000  100836.000000  1.008360e+05\n",
              "mean      326.127564   19435.295718       3.501557  1.205946e+09\n",
              "std       182.618491   35530.987199       1.042529  2.162610e+08\n",
              "min         1.000000       1.000000       0.500000  8.281246e+08\n",
              "25%       177.000000    1199.000000       3.000000  1.019124e+09\n",
              "50%       325.000000    2991.000000       3.500000  1.186087e+09\n",
              "75%       477.000000    8122.000000       4.000000  1.435994e+09\n",
              "max       610.000000  193609.000000       5.000000  1.537799e+09"
            ]
          },
          "metadata": {
            "tags": []
          },
          "execution_count": 38
        }
      ]
    },
    {
      "cell_type": "markdown",
      "metadata": {
        "id": "0hstsWNBFZyZ",
        "colab_type": "text"
      },
      "source": [
        "Como calcular a média apenas das notas?\n",
        "\n",
        "A primeira coisa que precisamos fazer é selecionar apenas as informações de notas. Usando uma estrutura muito parecida com a de [chave-valor dos dicionários python](https://www.alura.com.br/artigos/trabalhando-com-o-dicionario-no-python). \n",
        "\n",
        "Com o comando `avaliacoes['nota']`, obtemos os valores da coluna nota (repare que o tipo retornado é uma Série pandas, por isso o index de cada nota é mantido). Para calcular a média de todas as notas executamos `avaliacoes['nota'].means()`"
      ]
    },
    {
      "cell_type": "code",
      "metadata": {
        "id": "gI2f-HSZg7-A",
        "colab_type": "code",
        "outputId": "9405dc48-0f0b-448c-fa78-6f4804245bf4",
        "colab": {
          "base_uri": "https://localhost:8080/",
          "height": 221
        }
      },
      "source": [
        "avaliacoes['nota']"
      ],
      "execution_count": 39,
      "outputs": [
        {
          "output_type": "execute_result",
          "data": {
            "text/plain": [
              "0         4.0\n",
              "1         4.0\n",
              "2         4.0\n",
              "3         5.0\n",
              "4         5.0\n",
              "         ... \n",
              "100831    4.0\n",
              "100832    5.0\n",
              "100833    5.0\n",
              "100834    5.0\n",
              "100835    3.0\n",
              "Name: nota, Length: 100836, dtype: float64"
            ]
          },
          "metadata": {
            "tags": []
          },
          "execution_count": 39
        }
      ]
    },
    {
      "cell_type": "code",
      "metadata": {
        "id": "3MkZDkZZF4Hr",
        "colab_type": "code",
        "colab": {
          "base_uri": "https://localhost:8080/",
          "height": 34
        },
        "outputId": "c15bbfba-376c-47ba-fb07-893493f2a497"
      },
      "source": [
        "avaliacoes[\"nota\"].mean()"
      ],
      "execution_count": 40,
      "outputs": [
        {
          "output_type": "execute_result",
          "data": {
            "text/plain": [
              "3.501556983616962"
            ]
          },
          "metadata": {
            "tags": []
          },
          "execution_count": 40
        }
      ]
    },
    {
      "cell_type": "markdown",
      "metadata": {
        "id": "jB88kcKHGMwI",
        "colab_type": "text"
      },
      "source": [
        "Podemos calcular também na nota média do filmeId 1, repare que o resultado é um pouco maior que a geral. Apenas com essa análise não da para bater o martelo que o filme 1 é acima da média, mas apenas com essa análise conseguimos formular uma primeira hipótese!"
      ]
    },
    {
      "cell_type": "code",
      "metadata": {
        "id": "e_ykhg2LGK6J",
        "colab_type": "code",
        "colab": {
          "base_uri": "https://localhost:8080/",
          "height": 34
        },
        "outputId": "f103e59f-ddb7-4806-859e-913f1fd9a4e1"
      },
      "source": [
        "avaliacoes_filme1[\"nota\"].mean()"
      ],
      "execution_count": 44,
      "outputs": [
        {
          "output_type": "execute_result",
          "data": {
            "text/plain": [
              "3.9209302325581397"
            ]
          },
          "metadata": {
            "tags": []
          },
          "execution_count": 44
        }
      ]
    },
    {
      "cell_type": "markdown",
      "metadata": {
        "id": "NFfU2cexGHbT",
        "colab_type": "text"
      },
      "source": [
        ""
      ]
    },
    {
      "cell_type": "code",
      "metadata": {
        "id": "bbEfbPFrhHM5",
        "colab_type": "code",
        "outputId": "a48577fa-d4a5-4eab-8e00-4253c41a1c76",
        "colab": {
          "base_uri": "https://localhost:8080/",
          "height": 136
        }
      },
      "source": [
        "media_notas_por_filme = avaliacoes.groupby('filmeId')['nota'].mean() \n",
        "media_notas_por_filme.head()"
      ],
      "execution_count": 42,
      "outputs": [
        {
          "output_type": "execute_result",
          "data": {
            "text/plain": [
              "filmeId\n",
              "1    3.920930\n",
              "2    3.431818\n",
              "3    3.259615\n",
              "4    2.357143\n",
              "5    3.071429\n",
              "Name: nota, dtype: float64"
            ]
          },
          "metadata": {
            "tags": []
          },
          "execution_count": 42
        }
      ]
    },
    {
      "cell_type": "code",
      "metadata": {
        "id": "BXsIeFREjLGQ",
        "colab_type": "code",
        "outputId": "bd41598e-7b8a-40f4-eb0b-e1b1e4b6326c",
        "colab": {
          "base_uri": "https://localhost:8080/",
          "height": 204
        }
      },
      "source": [
        "filmes_com_media = filmes.join(media_notas_por_filme, on='filmeId')\n",
        "filmes_com_media.head()"
      ],
      "execution_count": 0,
      "outputs": [
        {
          "output_type": "execute_result",
          "data": {
            "text/html": [
              "<div>\n",
              "<style scoped>\n",
              "    .dataframe tbody tr th:only-of-type {\n",
              "        vertical-align: middle;\n",
              "    }\n",
              "\n",
              "    .dataframe tbody tr th {\n",
              "        vertical-align: top;\n",
              "    }\n",
              "\n",
              "    .dataframe thead th {\n",
              "        text-align: right;\n",
              "    }\n",
              "</style>\n",
              "<table border=\"1\" class=\"dataframe\">\n",
              "  <thead>\n",
              "    <tr style=\"text-align: right;\">\n",
              "      <th></th>\n",
              "      <th>filmeId</th>\n",
              "      <th>titulo</th>\n",
              "      <th>generos</th>\n",
              "      <th>notaMedia</th>\n",
              "    </tr>\n",
              "  </thead>\n",
              "  <tbody>\n",
              "    <tr>\n",
              "      <th>0</th>\n",
              "      <td>1</td>\n",
              "      <td>Toy Story (1995)</td>\n",
              "      <td>Adventure|Animation|Children|Comedy|Fantasy</td>\n",
              "      <td>3.920930</td>\n",
              "    </tr>\n",
              "    <tr>\n",
              "      <th>1</th>\n",
              "      <td>2</td>\n",
              "      <td>Jumanji (1995)</td>\n",
              "      <td>Adventure|Children|Fantasy</td>\n",
              "      <td>3.431818</td>\n",
              "    </tr>\n",
              "    <tr>\n",
              "      <th>2</th>\n",
              "      <td>3</td>\n",
              "      <td>Grumpier Old Men (1995)</td>\n",
              "      <td>Comedy|Romance</td>\n",
              "      <td>3.259615</td>\n",
              "    </tr>\n",
              "    <tr>\n",
              "      <th>3</th>\n",
              "      <td>4</td>\n",
              "      <td>Waiting to Exhale (1995)</td>\n",
              "      <td>Comedy|Drama|Romance</td>\n",
              "      <td>2.357143</td>\n",
              "    </tr>\n",
              "    <tr>\n",
              "      <th>4</th>\n",
              "      <td>5</td>\n",
              "      <td>Father of the Bride Part II (1995)</td>\n",
              "      <td>Comedy</td>\n",
              "      <td>3.071429</td>\n",
              "    </tr>\n",
              "  </tbody>\n",
              "</table>\n",
              "</div>"
            ],
            "text/plain": [
              "   filmeId  ... notaMedia\n",
              "0        1  ...  3.920930\n",
              "1        2  ...  3.431818\n",
              "2        3  ...  3.259615\n",
              "3        4  ...  2.357143\n",
              "4        5  ...  3.071429\n",
              "\n",
              "[5 rows x 4 columns]"
            ]
          },
          "metadata": {
            "tags": []
          },
          "execution_count": 14
        }
      ]
    },
    {
      "cell_type": "code",
      "metadata": {
        "id": "gr9XB201lFkS",
        "colab_type": "code",
        "outputId": "dde76183-78c3-4a1a-f300-70911ad6cc12",
        "colab": {
          "base_uri": "https://localhost:8080/",
          "height": 419
        }
      },
      "source": [
        "filmes_com_media.sort_values('notaMedia', ascending=False)"
      ],
      "execution_count": 0,
      "outputs": [
        {
          "output_type": "execute_result",
          "data": {
            "text/html": [
              "<div>\n",
              "<style scoped>\n",
              "    .dataframe tbody tr th:only-of-type {\n",
              "        vertical-align: middle;\n",
              "    }\n",
              "\n",
              "    .dataframe tbody tr th {\n",
              "        vertical-align: top;\n",
              "    }\n",
              "\n",
              "    .dataframe thead th {\n",
              "        text-align: right;\n",
              "    }\n",
              "</style>\n",
              "<table border=\"1\" class=\"dataframe\">\n",
              "  <thead>\n",
              "    <tr style=\"text-align: right;\">\n",
              "      <th></th>\n",
              "      <th>filmeId</th>\n",
              "      <th>titulo</th>\n",
              "      <th>generos</th>\n",
              "      <th>notaMedia</th>\n",
              "    </tr>\n",
              "  </thead>\n",
              "  <tbody>\n",
              "    <tr>\n",
              "      <th>7656</th>\n",
              "      <td>88448</td>\n",
              "      <td>Paper Birds (Pájaros de papel) (2010)</td>\n",
              "      <td>Comedy|Drama</td>\n",
              "      <td>5.0</td>\n",
              "    </tr>\n",
              "    <tr>\n",
              "      <th>8107</th>\n",
              "      <td>100556</td>\n",
              "      <td>Act of Killing, The (2012)</td>\n",
              "      <td>Documentary</td>\n",
              "      <td>5.0</td>\n",
              "    </tr>\n",
              "    <tr>\n",
              "      <th>9083</th>\n",
              "      <td>143031</td>\n",
              "      <td>Jump In! (2007)</td>\n",
              "      <td>Comedy|Drama|Romance</td>\n",
              "      <td>5.0</td>\n",
              "    </tr>\n",
              "    <tr>\n",
              "      <th>9094</th>\n",
              "      <td>143511</td>\n",
              "      <td>Human (2015)</td>\n",
              "      <td>Documentary</td>\n",
              "      <td>5.0</td>\n",
              "    </tr>\n",
              "    <tr>\n",
              "      <th>9096</th>\n",
              "      <td>143559</td>\n",
              "      <td>L.A. Slasher (2015)</td>\n",
              "      <td>Comedy|Crime|Fantasy</td>\n",
              "      <td>5.0</td>\n",
              "    </tr>\n",
              "    <tr>\n",
              "      <th>...</th>\n",
              "      <td>...</td>\n",
              "      <td>...</td>\n",
              "      <td>...</td>\n",
              "      <td>...</td>\n",
              "    </tr>\n",
              "    <tr>\n",
              "      <th>5749</th>\n",
              "      <td>30892</td>\n",
              "      <td>In the Realms of the Unreal (2004)</td>\n",
              "      <td>Animation|Documentary</td>\n",
              "      <td>NaN</td>\n",
              "    </tr>\n",
              "    <tr>\n",
              "      <th>5824</th>\n",
              "      <td>32160</td>\n",
              "      <td>Twentieth Century (1934)</td>\n",
              "      <td>Comedy</td>\n",
              "      <td>NaN</td>\n",
              "    </tr>\n",
              "    <tr>\n",
              "      <th>5837</th>\n",
              "      <td>32371</td>\n",
              "      <td>Call Northside 777 (1948)</td>\n",
              "      <td>Crime|Drama|Film-Noir</td>\n",
              "      <td>NaN</td>\n",
              "    </tr>\n",
              "    <tr>\n",
              "      <th>5957</th>\n",
              "      <td>34482</td>\n",
              "      <td>Browning Version, The (1951)</td>\n",
              "      <td>Drama</td>\n",
              "      <td>NaN</td>\n",
              "    </tr>\n",
              "    <tr>\n",
              "      <th>7565</th>\n",
              "      <td>85565</td>\n",
              "      <td>Chalet Girl (2011)</td>\n",
              "      <td>Comedy|Romance</td>\n",
              "      <td>NaN</td>\n",
              "    </tr>\n",
              "  </tbody>\n",
              "</table>\n",
              "<p>9742 rows × 4 columns</p>\n",
              "</div>"
            ],
            "text/plain": [
              "      filmeId  ... notaMedia\n",
              "7656    88448  ...       5.0\n",
              "8107   100556  ...       5.0\n",
              "9083   143031  ...       5.0\n",
              "9094   143511  ...       5.0\n",
              "9096   143559  ...       5.0\n",
              "...       ...  ...       ...\n",
              "5749    30892  ...       NaN\n",
              "5824    32160  ...       NaN\n",
              "5837    32371  ...       NaN\n",
              "5957    34482  ...       NaN\n",
              "7565    85565  ...       NaN\n",
              "\n",
              "[9742 rows x 4 columns]"
            ]
          },
          "metadata": {
            "tags": []
          },
          "execution_count": 15
        }
      ]
    },
    {
      "cell_type": "code",
      "metadata": {
        "id": "eD__NOlHln68",
        "colab_type": "code",
        "outputId": "c8cf6cfc-7f2a-4f20-d531-73a7a7cee5ea",
        "colab": {
          "base_uri": "https://localhost:8080/",
          "height": 419
        }
      },
      "source": [
        "avaliacoes.query('filmeId in [1,2,102084]')"
      ],
      "execution_count": 0,
      "outputs": [
        {
          "output_type": "execute_result",
          "data": {
            "text/html": [
              "<div>\n",
              "<style scoped>\n",
              "    .dataframe tbody tr th:only-of-type {\n",
              "        vertical-align: middle;\n",
              "    }\n",
              "\n",
              "    .dataframe tbody tr th {\n",
              "        vertical-align: top;\n",
              "    }\n",
              "\n",
              "    .dataframe thead th {\n",
              "        text-align: right;\n",
              "    }\n",
              "</style>\n",
              "<table border=\"1\" class=\"dataframe\">\n",
              "  <thead>\n",
              "    <tr style=\"text-align: right;\">\n",
              "      <th></th>\n",
              "      <th>usuarioId</th>\n",
              "      <th>filmeId</th>\n",
              "      <th>notaMedia</th>\n",
              "      <th>momento</th>\n",
              "    </tr>\n",
              "  </thead>\n",
              "  <tbody>\n",
              "    <tr>\n",
              "      <th>0</th>\n",
              "      <td>1</td>\n",
              "      <td>1</td>\n",
              "      <td>4.0</td>\n",
              "      <td>964982703</td>\n",
              "    </tr>\n",
              "    <tr>\n",
              "      <th>516</th>\n",
              "      <td>5</td>\n",
              "      <td>1</td>\n",
              "      <td>4.0</td>\n",
              "      <td>847434962</td>\n",
              "    </tr>\n",
              "    <tr>\n",
              "      <th>560</th>\n",
              "      <td>6</td>\n",
              "      <td>2</td>\n",
              "      <td>4.0</td>\n",
              "      <td>845553522</td>\n",
              "    </tr>\n",
              "    <tr>\n",
              "      <th>874</th>\n",
              "      <td>7</td>\n",
              "      <td>1</td>\n",
              "      <td>4.5</td>\n",
              "      <td>1106635946</td>\n",
              "    </tr>\n",
              "    <tr>\n",
              "      <th>1026</th>\n",
              "      <td>8</td>\n",
              "      <td>2</td>\n",
              "      <td>4.0</td>\n",
              "      <td>839463806</td>\n",
              "    </tr>\n",
              "    <tr>\n",
              "      <th>...</th>\n",
              "      <td>...</td>\n",
              "      <td>...</td>\n",
              "      <td>...</td>\n",
              "      <td>...</td>\n",
              "    </tr>\n",
              "    <tr>\n",
              "      <th>98479</th>\n",
              "      <td>607</td>\n",
              "      <td>1</td>\n",
              "      <td>4.0</td>\n",
              "      <td>964744033</td>\n",
              "    </tr>\n",
              "    <tr>\n",
              "      <th>98666</th>\n",
              "      <td>608</td>\n",
              "      <td>1</td>\n",
              "      <td>2.5</td>\n",
              "      <td>1117408267</td>\n",
              "    </tr>\n",
              "    <tr>\n",
              "      <th>98667</th>\n",
              "      <td>608</td>\n",
              "      <td>2</td>\n",
              "      <td>2.0</td>\n",
              "      <td>1117490786</td>\n",
              "    </tr>\n",
              "    <tr>\n",
              "      <th>99497</th>\n",
              "      <td>609</td>\n",
              "      <td>1</td>\n",
              "      <td>3.0</td>\n",
              "      <td>847221025</td>\n",
              "    </tr>\n",
              "    <tr>\n",
              "      <th>99534</th>\n",
              "      <td>610</td>\n",
              "      <td>1</td>\n",
              "      <td>5.0</td>\n",
              "      <td>1479542900</td>\n",
              "    </tr>\n",
              "  </tbody>\n",
              "</table>\n",
              "<p>326 rows × 4 columns</p>\n",
              "</div>"
            ],
            "text/plain": [
              "       usuarioId  filmeId  notaMedia     momento\n",
              "0              1        1        4.0   964982703\n",
              "516            5        1        4.0   847434962\n",
              "560            6        2        4.0   845553522\n",
              "874            7        1        4.5  1106635946\n",
              "1026           8        2        4.0   839463806\n",
              "...          ...      ...        ...         ...\n",
              "98479        607        1        4.0   964744033\n",
              "98666        608        1        2.5  1117408267\n",
              "98667        608        2        2.0  1117490786\n",
              "99497        609        1        3.0   847221025\n",
              "99534        610        1        5.0  1479542900\n",
              "\n",
              "[326 rows x 4 columns]"
            ]
          },
          "metadata": {
            "tags": []
          },
          "execution_count": 16
        }
      ]
    },
    {
      "cell_type": "code",
      "metadata": {
        "id": "1scwLNDmoSc6",
        "colab_type": "code",
        "outputId": "d89fcc36-3b90-4f5f-a000-56dcd0c87659",
        "colab": {
          "base_uri": "https://localhost:8080/",
          "height": 298
        }
      },
      "source": [
        "avaliacoes.query('filmeId == 1')['notaMedia'].plot(kind='hist')\n",
        "plt.title('Avaliações do filme Toy Story')"
      ],
      "execution_count": 0,
      "outputs": [
        {
          "output_type": "execute_result",
          "data": {
            "text/plain": [
              "Text(0.5, 1.0, 'Avaliações do filme Toy Story')"
            ]
          },
          "metadata": {
            "tags": []
          },
          "execution_count": 17
        },
        {
          "output_type": "display_data",
          "data": {
            "image/png": "[encoded data removed]",
            "text/plain": [
              "<Figure size 432x288 with 1 Axes>"
            ]
          },
          "metadata": {
            "tags": [],
            "needs_background": "light"
          }
        }
      ]
    },
    {
      "cell_type": "markdown",
      "metadata": {
        "id": "jxQPR_josOIG",
        "colab_type": "text"
      },
      "source": [
        "##**Desafios**"
      ]
    },
    {
      "cell_type": "markdown",
      "metadata": {
        "id": "ssRREJb7rLyd",
        "colab_type": "text"
      },
      "source": [
        "**Desafio 1** do Paulo Silveira\n"
      ]
    },
    {
      "cell_type": "markdown",
      "metadata": {
        "id": "H6lkqbl7rvwW",
        "colab_type": "text"
      },
      "source": [
        "O Paulo fez uma análise rápida e disse que tem 18 filmes sem avaliações, será que ele acertou?  Determine quantos filmes não tem avaliações e quais são esses filmes."
      ]
    },
    {
      "cell_type": "markdown",
      "metadata": {
        "id": "zux4AXMZrRj2",
        "colab_type": "text"
      },
      "source": [
        "\n",
        "**Desafio 2** do Guilherme Silveira\n"
      ]
    },
    {
      "cell_type": "markdown",
      "metadata": {
        "id": "9mO7JGdXrlSG",
        "colab_type": "text"
      },
      "source": [
        "Mudar o nome da coluna nota do dataframe filmes_com_media para nota_média após o join."
      ]
    },
    {
      "cell_type": "markdown",
      "metadata": {
        "id": "Mg-IyJm_rTrv",
        "colab_type": "text"
      },
      "source": [
        "**Desafio 3** do Guilherme Silveira"
      ]
    },
    {
      "cell_type": "markdown",
      "metadata": {
        "id": "IplXp90ornn-",
        "colab_type": "text"
      },
      "source": [
        "Colocar o número de avaliações por filme, isto é, não só a média mas o TOTAL de votos por filme."
      ]
    },
    {
      "cell_type": "markdown",
      "metadata": {
        "id": "I_7yjwOnrWiO",
        "colab_type": "text"
      },
      "source": [
        "**Desafio 4** do Thiago Gonçalves"
      ]
    },
    {
      "cell_type": "markdown",
      "metadata": {
        "id": "6GbviK_8r7bP",
        "colab_type": "text"
      },
      "source": [
        "Arredondar as médias (coluna de nota média) para duas casas decimais."
      ]
    },
    {
      "cell_type": "markdown",
      "metadata": {
        "id": "Eo_MoRsErYLI",
        "colab_type": "text"
      },
      "source": [
        "**Desafio 5** do Allan Spadini"
      ]
    },
    {
      "cell_type": "markdown",
      "metadata": {
        "id": "sEijLKUmsBfQ",
        "colab_type": "text"
      },
      "source": [
        "Descobrir os generos dos filmes (quais são eles, únicos). (esse aqui o bicho pega)"
      ]
    },
    {
      "cell_type": "markdown",
      "metadata": {
        "id": "ji2z46x7rZ5i",
        "colab_type": "text"
      },
      "source": [
        "**Desafio 6** da Thais André"
      ]
    },
    {
      "cell_type": "markdown",
      "metadata": {
        "id": "vVP_nRfVsHZW",
        "colab_type": "text"
      },
      "source": [
        "Contar o número de aparições de cada genero."
      ]
    },
    {
      "cell_type": "markdown",
      "metadata": {
        "id": "qmN4mlhZrb53",
        "colab_type": "text"
      },
      "source": [
        "**Desafio 7** do Guilherme Silveira"
      ]
    },
    {
      "cell_type": "markdown",
      "metadata": {
        "id": "XCJslVADsMOH",
        "colab_type": "text"
      },
      "source": [
        "Plotar o gráfico de aparições de cada genero. Pode ser um gráfico de tipo igual a barra."
      ]
    }
  ]
}