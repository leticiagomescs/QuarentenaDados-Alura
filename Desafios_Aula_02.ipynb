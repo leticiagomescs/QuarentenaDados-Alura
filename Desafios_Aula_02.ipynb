{
  "nbformat": 4,
  "nbformat_minor": 0,
  "metadata": {
    "colab": {
      "name": "Desafios-Aula_02.ipynb",
      "provenance": [],
      "toc_visible": true,
      "authorship_tag": "ABX9TyNGt+2YoTD2OQsa9mBAY+wB",
      "include_colab_link": true
    },
    "kernelspec": {
      "name": "python3",
      "display_name": "Python 3"
    }
  },
  "cells": [
    {
      "cell_type": "markdown",
      "metadata": {
        "id": "view-in-github",
        "colab_type": "text"
      },
      "source": [
        "<a href=\"https://colab.research.google.com/github/leticiagomescs/QuarentenaDados-Alura/blob/master/Desafios_Aula_02.ipynb\" target=\"_parent\"><img src=\"https://colab.research.google.com/assets/colab-badge.svg\" alt=\"Open In Colab\"/></a>"
      ]
    },
    {
      "cell_type": "markdown",
      "metadata": {
        "id": "QsRkzl30FyDZ",
        "colab_type": "text"
      },
      "source": [
        "<h1>Aula_02 Quarentena Dados"
      ]
    },
    {
      "cell_type": "markdown",
      "metadata": {
        "id": "v-KuyRMGGLap",
        "colab_type": "text"
      },
      "source": [
        "# **Desafios**"
      ]
    },
    {
      "cell_type": "markdown",
      "metadata": {
        "id": "0gU9i8fCGPko",
        "colab_type": "text"
      },
      "source": [
        "## Bibliotecas Python"
      ]
    },
    {
      "cell_type": "code",
      "metadata": {
        "id": "nGk83cfqGWAw",
        "colab_type": "code",
        "colab": {}
      },
      "source": [
        "# Processamento/manipulação dos dados:\n",
        "import pandas as pd\n",
        "\n",
        "# Visualização dos dados:\n",
        "import matplotlib.pyplot as plt\n",
        "import seaborn as sns"
      ],
      "execution_count": 0,
      "outputs": []
    },
    {
      "cell_type": "markdown",
      "metadata": {
        "id": "fDJ5g71aGQrw",
        "colab_type": "text"
      },
      "source": [
        "## Conjunto de Dados"
      ]
    },
    {
      "cell_type": "markdown",
      "metadata": {
        "id": "C9OSgamEGenY",
        "colab_type": "text"
      },
      "source": [
        "**Filmes:**"
      ]
    },
    {
      "cell_type": "code",
      "metadata": {
        "id": "ab23rD25GafA",
        "colab_type": "code",
        "colab": {
          "base_uri": "https://localhost:8080/",
          "height": 204
        },
        "outputId": "ee21a8ed-8dc9-429c-87a4-1bdae5cb8975"
      },
      "source": [
        "filmes = pd.read_csv(\"https://raw.githubusercontent.com/alura-cursos/introducao-a-data-science/master/aula0/ml-latest-small/movies.csv\")\n",
        "\n",
        "# Agora, filmes é um DataFrame\n",
        "filmes.columns = ['filmeId', 'titulo', 'generos']\n",
        "filmes.head()"
      ],
      "execution_count": 3,
      "outputs": [
        {
          "output_type": "execute_result",
          "data": {
            "text/html": [
              "<div>\n",
              "<style scoped>\n",
              "    .dataframe tbody tr th:only-of-type {\n",
              "        vertical-align: middle;\n",
              "    }\n",
              "\n",
              "    .dataframe tbody tr th {\n",
              "        vertical-align: top;\n",
              "    }\n",
              "\n",
              "    .dataframe thead th {\n",
              "        text-align: right;\n",
              "    }\n",
              "</style>\n",
              "<table border=\"1\" class=\"dataframe\">\n",
              "  <thead>\n",
              "    <tr style=\"text-align: right;\">\n",
              "      <th></th>\n",
              "      <th>filmeId</th>\n",
              "      <th>titulo</th>\n",
              "      <th>generos</th>\n",
              "    </tr>\n",
              "  </thead>\n",
              "  <tbody>\n",
              "    <tr>\n",
              "      <th>0</th>\n",
              "      <td>1</td>\n",
              "      <td>Toy Story (1995)</td>\n",
              "      <td>Adventure|Animation|Children|Comedy|Fantasy</td>\n",
              "    </tr>\n",
              "    <tr>\n",
              "      <th>1</th>\n",
              "      <td>2</td>\n",
              "      <td>Jumanji (1995)</td>\n",
              "      <td>Adventure|Children|Fantasy</td>\n",
              "    </tr>\n",
              "    <tr>\n",
              "      <th>2</th>\n",
              "      <td>3</td>\n",
              "      <td>Grumpier Old Men (1995)</td>\n",
              "      <td>Comedy|Romance</td>\n",
              "    </tr>\n",
              "    <tr>\n",
              "      <th>3</th>\n",
              "      <td>4</td>\n",
              "      <td>Waiting to Exhale (1995)</td>\n",
              "      <td>Comedy|Drama|Romance</td>\n",
              "    </tr>\n",
              "    <tr>\n",
              "      <th>4</th>\n",
              "      <td>5</td>\n",
              "      <td>Father of the Bride Part II (1995)</td>\n",
              "      <td>Comedy</td>\n",
              "    </tr>\n",
              "  </tbody>\n",
              "</table>\n",
              "</div>"
            ],
            "text/plain": [
              "   filmeId  ...                                      generos\n",
              "0        1  ...  Adventure|Animation|Children|Comedy|Fantasy\n",
              "1        2  ...                   Adventure|Children|Fantasy\n",
              "2        3  ...                               Comedy|Romance\n",
              "3        4  ...                         Comedy|Drama|Romance\n",
              "4        5  ...                                       Comedy\n",
              "\n",
              "[5 rows x 3 columns]"
            ]
          },
          "metadata": {
            "tags": []
          },
          "execution_count": 3
        }
      ]
    },
    {
      "cell_type": "markdown",
      "metadata": {
        "id": "gQnkVpO6Gh3o",
        "colab_type": "text"
      },
      "source": [
        "**Avaliações:**"
      ]
    },
    {
      "cell_type": "code",
      "metadata": {
        "id": "U-HfZK56GiLh",
        "colab_type": "code",
        "colab": {
          "base_uri": "https://localhost:8080/",
          "height": 204
        },
        "outputId": "2b9b1970-9866-4151-baed-c8964a510852"
      },
      "source": [
        "avaliacoes = pd.read_csv(\"https://github.com/alura-cursos/introducao-a-data-science/blob/master/aula0/ml-latest-small/ratings.csv?raw=true\")\n",
        "avaliacoes.columns = ['userId','filmeId','nota','timestamp']\n",
        "avaliacoes.head()"
      ],
      "execution_count": 4,
      "outputs": [
        {
          "output_type": "execute_result",
          "data": {
            "text/html": [
              "<div>\n",
              "<style scoped>\n",
              "    .dataframe tbody tr th:only-of-type {\n",
              "        vertical-align: middle;\n",
              "    }\n",
              "\n",
              "    .dataframe tbody tr th {\n",
              "        vertical-align: top;\n",
              "    }\n",
              "\n",
              "    .dataframe thead th {\n",
              "        text-align: right;\n",
              "    }\n",
              "</style>\n",
              "<table border=\"1\" class=\"dataframe\">\n",
              "  <thead>\n",
              "    <tr style=\"text-align: right;\">\n",
              "      <th></th>\n",
              "      <th>userId</th>\n",
              "      <th>filmeId</th>\n",
              "      <th>nota</th>\n",
              "      <th>timestamp</th>\n",
              "    </tr>\n",
              "  </thead>\n",
              "  <tbody>\n",
              "    <tr>\n",
              "      <th>0</th>\n",
              "      <td>1</td>\n",
              "      <td>1</td>\n",
              "      <td>4.0</td>\n",
              "      <td>964982703</td>\n",
              "    </tr>\n",
              "    <tr>\n",
              "      <th>1</th>\n",
              "      <td>1</td>\n",
              "      <td>3</td>\n",
              "      <td>4.0</td>\n",
              "      <td>964981247</td>\n",
              "    </tr>\n",
              "    <tr>\n",
              "      <th>2</th>\n",
              "      <td>1</td>\n",
              "      <td>6</td>\n",
              "      <td>4.0</td>\n",
              "      <td>964982224</td>\n",
              "    </tr>\n",
              "    <tr>\n",
              "      <th>3</th>\n",
              "      <td>1</td>\n",
              "      <td>47</td>\n",
              "      <td>5.0</td>\n",
              "      <td>964983815</td>\n",
              "    </tr>\n",
              "    <tr>\n",
              "      <th>4</th>\n",
              "      <td>1</td>\n",
              "      <td>50</td>\n",
              "      <td>5.0</td>\n",
              "      <td>964982931</td>\n",
              "    </tr>\n",
              "  </tbody>\n",
              "</table>\n",
              "</div>"
            ],
            "text/plain": [
              "   userId  filmeId  nota  timestamp\n",
              "0       1        1   4.0  964982703\n",
              "1       1        3   4.0  964981247\n",
              "2       1        6   4.0  964982224\n",
              "3       1       47   5.0  964983815\n",
              "4       1       50   5.0  964982931"
            ]
          },
          "metadata": {
            "tags": []
          },
          "execution_count": 4
        }
      ]
    },
    {
      "cell_type": "markdown",
      "metadata": {
        "id": "BaPJSYrjFy-Y",
        "colab_type": "text"
      },
      "source": [
        "### **Desafio 1** do Guilherme Silveira"
      ]
    },
    {
      "cell_type": "markdown",
      "metadata": {
        "id": "Ef0k93e3DUjj",
        "colab_type": "text"
      },
      "source": [
        "\n",
        "Rotacionar os thicks (os nomes dos generos) do gráfico de barras verdes (o último), de forma a deixar as legendas mais legíveis."
      ]
    },
    {
      "cell_type": "code",
      "metadata": {
        "id": "Aeci1_NwDSmW",
        "colab_type": "code",
        "colab": {
          "base_uri": "https://localhost:8080/",
          "height": 538
        },
        "outputId": "90b58f8b-7245-4588-939e-7d25e52a0c0c"
      },
      "source": [
        "sns.set_style(\"whitegrid\")\n",
        "\n",
        "filmes_por_genero = filmes[\"generos\"].str.get_dummies('|').sum().sort_values(ascending=False)\n",
        "plt.figure(figsize=(16,8))\n",
        "\n",
        "grafico = sns.barplot(x=filmes_por_genero.index,\n",
        "            y=filmes_por_genero.values,\n",
        "            palette=sns.color_palette(\"BuGn_r\", n_colors=len(filmes_por_genero) + 4)).set_xticklabels(filmes_por_genero.index,rotation = 45)"
      ],
      "execution_count": 5,
      "outputs": [
        {
          "output_type": "display_data",
          "data": {
            "image/png": "[encoded data removed]",
            "text/plain": [
              "<Figure size 1152x576 with 1 Axes>"
            ]
          },
          "metadata": {
            "tags": []
          }
        }
      ]
    },
    {
      "cell_type": "markdown",
      "metadata": {
        "id": "BO5TVBB3Fq2Q",
        "colab_type": "text"
      },
      "source": [
        "### **Desafio 2** do Paulo Silveira"
      ]
    },
    {
      "cell_type": "markdown",
      "metadata": {
        "id": "DpnwyvxHFraQ",
        "colab_type": "text"
      },
      "source": [
        "Encontar vários filmes com médias próximas e distribuições diferentes, use a função plot_filmes(n) para plotar."
      ]
    },
    {
      "cell_type": "code",
      "metadata": {
        "id": "vJnpc1IhOMAx",
        "colab_type": "code",
        "colab": {}
      },
      "source": [
        "# Função: \n",
        "def plota_filme(n):\n",
        "  notas_do_filme = avaliacoes.query(f'filmeId=={n}')[\"nota\"]\n",
        "  notas_do_filme.plot(kind='hist')\n",
        "  return notas_do_filme.describe()"
      ],
      "execution_count": 0,
      "outputs": []
    },
    {
      "cell_type": "code",
      "metadata": {
        "id": "nAWD7Ar_OpRw",
        "colab_type": "code",
        "colab": {
          "base_uri": "https://localhost:8080/",
          "height": 418
        },
        "outputId": "9892720d-3748-45fc-9bf8-84aeb246f49f"
      },
      "source": [
        "plota_filme(100)"
      ],
      "execution_count": 35,
      "outputs": [
        {
          "output_type": "execute_result",
          "data": {
            "text/plain": [
              "count    14.000000\n",
              "mean      2.785714\n",
              "std       0.699293\n",
              "min       1.000000\n",
              "25%       3.000000\n",
              "50%       3.000000\n",
              "75%       3.000000\n",
              "max       4.000000\n",
              "Name: nota, dtype: float64"
            ]
          },
          "metadata": {
            "tags": []
          },
          "execution_count": 35
        },
        {
          "output_type": "display_data",
          "data": {
            "image/png": "[encoded data removed]",
            "text/plain": [
              "<Figure size 432x288 with 1 Axes>"
            ]
          },
          "metadata": {
            "tags": []
          }
        }
      ]
    },
    {
      "cell_type": "markdown",
      "metadata": {
        "id": "ZD8HJ6n7GuvZ",
        "colab_type": "text"
      },
      "source": [
        "### **Desafio 3** do Paulo Silveira"
      ]
    },
    {
      "cell_type": "markdown",
      "metadata": {
        "id": "7e8upPecGvLZ",
        "colab_type": "text"
      },
      "source": [
        "Criar o boxplot dos 10 filmes com mais votos (não é com maior média, é com mais votos!). Não apenas plot mas também analise e tente tirar conclusões."
      ]
    },
    {
      "cell_type": "markdown",
      "metadata": {
        "id": "Z4f74UYUG1tw",
        "colab_type": "text"
      },
      "source": [
        "### **Desafio 4** do Guilherme Silveira"
      ]
    },
    {
      "cell_type": "markdown",
      "metadata": {
        "id": "07S02ATvG2GI",
        "colab_type": "text"
      },
      "source": [
        "Configurar a visualização do boxplot gerado pelo seaborn (último boxplot plotado na aula). Configurar o tamanho e colocar o nome dos filmes nos thicks."
      ]
    },
    {
      "cell_type": "markdown",
      "metadata": {
        "id": "aTxrl9dnG8hf",
        "colab_type": "text"
      },
      "source": [
        "### **Desafio 5** do Allan Spadini"
      ]
    },
    {
      "cell_type": "markdown",
      "metadata": {
        "id": "DqLwkxo2G8u3",
        "colab_type": "text"
      },
      "source": [
        "Calcular moda, média e mediana dos filmes. Explore filmes com notas mais próximas de 0.5, 3 e 5."
      ]
    },
    {
      "cell_type": "markdown",
      "metadata": {
        "id": "ffJyrdG1HDwZ",
        "colab_type": "text"
      },
      "source": [
        "### **Desafio 6** da Thais André"
      ]
    },
    {
      "cell_type": "markdown",
      "metadata": {
        "id": "3q7kSaVDHD-J",
        "colab_type": "text"
      },
      "source": [
        " Plotar o boxplot e o histograma um do lado do outro (na mesma figura ou em figuras distintas, mas um do lado do outro)."
      ]
    },
    {
      "cell_type": "markdown",
      "metadata": {
        "id": "My9p2QajHJ4n",
        "colab_type": "text"
      },
      "source": [
        "### **Desafio 7** do Thiago Gonçalves"
      ]
    },
    {
      "cell_type": "markdown",
      "metadata": {
        "id": "Nmb3JCBrHKWh",
        "colab_type": "text"
      },
      "source": [
        "Criar um gráfico de notas médias por ano (média geral considerando todos os filmes lançados naquele ano)."
      ]
    },
    {
      "cell_type": "code",
      "metadata": {
        "id": "vLzoxJteHRRt",
        "colab_type": "code",
        "colab": {}
      },
      "source": [
        ""
      ],
      "execution_count": 0,
      "outputs": []
    }
  ]
}